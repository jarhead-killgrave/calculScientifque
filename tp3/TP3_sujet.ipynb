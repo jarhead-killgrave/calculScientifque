{
 "cells": [
  {
   "cell_type": "markdown",
   "metadata": {},
   "source": [
    "TP  3 : Propagation d'une maladie en Normandie\n",
    "===="
   ]
  },
  {
   "cell_type": "markdown",
   "metadata": {},
   "source": [
    "1 - Introduction \n",
    "------\n",
    "\n",
    "\n",
    "L'objectif de ce TP est d'aller plus loin dans l'utilisation de numpy en réalisant un programme qui permette de calculer des distances entre villes. \n",
    "\n",
    "Le TP sera à réaliser en python 3. Les librairies utilisées sont installées sur les machines de l'université, vous pouvez néanmoins les installer sur vos propres machines à l'aide de l'utilitaire pip présent par défaut avec python.\n",
    "\t\n",
    "N'hésitez pas à regarder régulièrement la documentation de ces librairies, des exemples d'utilisation accompagnent généralement l'explication de chaque fonction.\n",
    "\n",
    "- Python 3: https://docs.python.org/3/\n",
    "- Numpy: https://docs.scipy.org/doc/numpy/reference/\n",
    "- Scipy: https://docs.scipy.org/doc/scipy/reference/\n",
    "- Matplotilb: https://matplotlib.org/contents.html\n",
    "\n",
    "**<span style=\"color:red\"> À part si cela est précisé, vous ne devez pas utiliser directement de boucle (`for`,`while`) ou de branchement conditionnel (`if`) durant ce TP.</span>.**"
   ]
  },
  {
   "cell_type": "code",
   "execution_count": null,
   "metadata": {},
   "outputs": [],
   "source": [
    "import numpy as np\n",
    "import scipy as sc\n",
    "import scipy.spatial\n",
    "import matplotlib.pyplot as plt\n",
    "\n",
    "import pickle\n",
    "\n",
    "# Pour les tests\n",
    "import sys\n",
    "from io import StringIO "
   ]
  },
  {
   "cell_type": "markdown",
   "metadata": {},
   "source": [
    "Afin de vous guider dans la détection d'erreur dans votre code. Nous avons introduit des blocs de tests. Il n'est pas nécessaire que vous compreniez en détail le code de ces blocs. Vous devez uniquement les exécuter et corriger les erreurs de votre code si un des tests n'est pas valide. Il est important de noter que le fait de valider le test ne garantit pas que votre code ne contient pas d'erreur. Par contre un test non validé implique nécessairement que votre code contient une erreur.\n",
    "\n",
    "- Si tout les tests sont valides, vous aurez un message écrit en vert indiquant : Ok - Tous les tests sont validés.\n",
    "- Si un des tests n'est pas valide, vous aurez un message écrit en rouge indiquant : Au moins un test n'est pas validé.\n",
    "- Pour les tests non valides, vous aurez des éléments d'information sur le test non valide. En particulier, un message écrit en jaune vous détaillera la nature du test échoué."
   ]
  },
  {
   "cell_type": "markdown",
   "metadata": {},
   "source": [
    "Voici un exemple d'utilisation. Le bloc suivant est censé contenir l'affectation de la valeur 42 à la variable `a`. Le bloc de test d'après vérifie que vous avez correctement effectué l'affectation. Exécutez les deux blocs avec des valeurs de `a` correcte et incorrecte.\n",
    "Vous devez supprimer la ligne `raise NotImplementedError()` qui indique que vous n'avez pas encore fait l'implémentation."
   ]
  },
  {
   "cell_type": "code",
   "execution_count": null,
   "metadata": {
    "deletable": false,
    "nbgrader": {
     "cell_type": "code",
     "checksum": "abb3ddcc208dc9ceb262b3f0fd6afa0f",
     "grade": false,
     "grade_id": "cell-4896a2475d51a8f2",
     "locked": false,
     "schema_version": 3,
     "solution": true,
     "task": false
    }
   },
   "outputs": [],
   "source": [
    "# YOUR CODE HERE\n",
    "raise NotImplementedError()"
   ]
  },
  {
   "cell_type": "code",
   "execution_count": null,
   "metadata": {
    "deletable": false,
    "editable": false,
    "nbgrader": {
     "cell_type": "code",
     "checksum": "c3edd426dc13448ea09ac5a08110a3d2",
     "grade": true,
     "grade_id": "cell-5780a748c19e707c",
     "locked": true,
     "points": 0,
     "schema_version": 3,
     "solution": false,
     "task": false
    }
   },
   "outputs": [],
   "source": [
    "# Ce bloc permet de valider votre code. Vous ne devez pas le modifier.  \n",
    "try:\n",
    "    np.testing.assert_equal(a,42,err_msg=\"\\033[93m {}\\033[00m\" .format('Test 1 : a n\\'est pas égale à 42. Vérifiez que a==42'))\n",
    "except Exception as e: \n",
    "    print(\"\\033[91m {}\\033[00m\" .format('KO - Au moins un test n\\'est pas validé')) \n",
    "    print('Information sur le test non valide:')\n",
    "    print(e)\n",
    "    raise e\n",
    "else:\n",
    "    print(\"\\033[92m {}\\033[00m\" .format('Ok - Tous les tests sont validés.')) "
   ]
  },
  {
   "cell_type": "markdown",
   "metadata": {},
   "source": [
    "2 - Villes les plus proches / Villes les plus loins\n",
    "-----"
   ]
  },
  {
   "cell_type": "markdown",
   "metadata": {},
   "source": [
    "Nous allons écrire un programme qui recherche les 10 villes les plus proches d'une ville donnée. \n",
    "Commencez par récupérer les coordonnées des villes de Normandie sans doublon que nous avions calculées dans le TP 2. Les valeurs avait été placées dans un fichier `data.pickle`. Vous placerez les coordonnées dans la variable `coord`."
   ]
  },
  {
   "cell_type": "code",
   "execution_count": null,
   "metadata": {
    "deletable": false,
    "nbgrader": {
     "cell_type": "code",
     "checksum": "4ebbf096fb23930e4f78ac57b55aaaaa",
     "grade": false,
     "grade_id": "cell-4f2c423f1f11948b",
     "locked": false,
     "schema_version": 3,
     "solution": true,
     "task": false
    }
   },
   "outputs": [],
   "source": [
    "# YOUR CODE HERE\n",
    "raise NotImplementedError()"
   ]
  },
  {
   "cell_type": "code",
   "execution_count": null,
   "metadata": {
    "deletable": false,
    "editable": false,
    "nbgrader": {
     "cell_type": "code",
     "checksum": "84d5e29daa046ea45f551321401ed7ea",
     "grade": true,
     "grade_id": "cell-1e4a67f5a4457155",
     "locked": true,
     "points": 1,
     "schema_version": 3,
     "solution": false,
     "task": false
    }
   },
   "outputs": [],
   "source": [
    "# Ce bloc permet de valider votre code. Vous ne devez pas le modifier.  \n",
    "try:\n",
    "    np.testing.assert_equal(coord.shape,(2946,2),err_msg=\"\\033[93m {}\\033[00m\" .format('Test 1 : coord n\\'a pas la bonne taille. Vérifiez que les doublons ont bien été enlevé et que coord.shape==(2946,2)'))\n",
    "    np.testing.assert_almost_equal(coord[0],[49.4,0.3],err_msg=\"\\033[93m {}\\033[00m\" .format('Test 2 : Les premières valeurs de coord ne sont pas correcte.'))\n",
    "except Exception as e: \n",
    "    print(\"\\033[91m {}\\033[00m\" .format('KO - Au moins un test n\\'est pas validé')) \n",
    "    print('Information sur le test non valide:')\n",
    "    print(e)  \n",
    "    raise e\n",
    "else:\n",
    "    print(\"\\033[92m {}\\033[00m\" .format('Ok - Tous les tests sont validés.')) "
   ]
  },
  {
   "cell_type": "markdown",
   "metadata": {},
   "source": [
    "Calculez la distance entre toutes les villes de Normandie (sans doublon) que vous placerez dans la variable `d_villes`. Pour cela nous allons utiliser les fonctions `pdist` et `squareform` comme au TP 2 et une distance euclidienne sur les points 3D.  \n",
    "Attention les coordonnées doivent être sous la forme x,y,z et non latitude/longitude."
   ]
  },
  {
   "cell_type": "code",
   "execution_count": null,
   "metadata": {
    "deletable": false,
    "nbgrader": {
     "cell_type": "code",
     "checksum": "d2f2a586e5fc55aeed1f15c0559b3dad",
     "grade": false,
     "grade_id": "cell-48217a9473c360da",
     "locked": false,
     "schema_version": 3,
     "solution": true,
     "task": false
    }
   },
   "outputs": [],
   "source": [
    "%%time\n",
    "# YOUR CODE HERE\n",
    "raise NotImplementedError()"
   ]
  },
  {
   "cell_type": "code",
   "execution_count": null,
   "metadata": {
    "deletable": false,
    "editable": false,
    "nbgrader": {
     "cell_type": "code",
     "checksum": "c780c96ee633208c1723913b07b66856",
     "grade": true,
     "grade_id": "cell-43d217595a871ec2",
     "locked": true,
     "points": 1,
     "schema_version": 3,
     "solution": false,
     "task": false
    }
   },
   "outputs": [],
   "source": [
    "# Ce bloc permet de valider votre code. Vous ne devez pas le modifier.  \n",
    "try:\n",
    "    np.testing.assert_equal(d_villes.shape,(2946,2946),err_msg=\"\\033[93m {}\\033[00m\" .format('Test 1 : dist n\\'a pas la bonne taille. Vérifiez que les doublons ont bien été enlevé et que dist.shape==(2946,2946)'))\n",
    "    np.testing.assert_almost_equal(d_villes-d_villes.T,np.zeros(d_villes.shape),err_msg=\"\\033[93m {}\\033[00m\" .format('Test 2 : La distance entre A et B doit être la même qu\\'entre B et A.'))\n",
    "    np.testing.assert_almost_equal(np.sum(d_villes),888370473.7872453,err_msg=\"\\033[93m {}\\033[00m\" .format('Test 3 : Certaines distances sont fausses.'))\n",
    "except Exception as e: \n",
    "    print(\"\\033[91m {}\\033[00m\" .format('KO - Au moins un test n\\'est pas validé')) \n",
    "    print('Information sur le test non valide:')\n",
    "    print(e)  \n",
    "    raise e\n",
    "else:\n",
    "    print(\"\\033[92m {}\\033[00m\" .format('Ok - Tous les tests sont validés.')) "
   ]
  },
  {
   "cell_type": "markdown",
   "metadata": {},
   "source": [
    "Récupérez, dans la variable `dist_Caen`, la distance entre *Caen* et les autres villes de Normandie. Il s'agit de retrouver dans la matrice `d_villes` la ligne associée à *Caen*."
   ]
  },
  {
   "cell_type": "code",
   "execution_count": null,
   "metadata": {
    "deletable": false,
    "nbgrader": {
     "cell_type": "code",
     "checksum": "224a31089f8ac8cbc5844c112daf00d1",
     "grade": false,
     "grade_id": "cell-f9563c9910d2a091",
     "locked": false,
     "schema_version": 3,
     "solution": true,
     "task": false
    }
   },
   "outputs": [],
   "source": [
    "# YOUR CODE HERE\n",
    "raise NotImplementedError()"
   ]
  },
  {
   "cell_type": "code",
   "execution_count": null,
   "metadata": {
    "deletable": false,
    "editable": false,
    "nbgrader": {
     "cell_type": "code",
     "checksum": "759f4e4dc004a4959fe1e019161b14c4",
     "grade": true,
     "grade_id": "cell-a3bedb96f50371d5",
     "locked": true,
     "points": 1,
     "schema_version": 3,
     "solution": false,
     "task": false
    }
   },
   "outputs": [],
   "source": [
    "# Ce bloc permet de valider votre code. Vous ne devez pas le modifier.  \n",
    "try:\n",
    "    np.testing.assert_equal(dist_Caen.shape,(2946,),err_msg=\"\\033[93m {}\\033[00m\" .format('Test 1 : dist_Caen n\\'a pas la bonne taille. Vérifiez que len(dist_Caen)==2946'))\n",
    "    np.testing.assert_almost_equal(dist_Caen[:3],[52.9093495,  76.3072865, 115.4598661],err_msg=\"\\033[93m {}\\033[00m\" .format('Test 2 : Les premières distances doivent être [52.9093495,  76.3072865, 115.4598661 ...].'))\n",
    "    np.testing.assert_almost_equal(np.sum(dist_Caen),237420.0423234083,err_msg=\"\\033[93m {}\\033[00m\" .format('Test 3 : Certaines distances sont fausses.'))\n",
    "except Exception as e: \n",
    "    print(\"\\033[91m {}\\033[00m\" .format('KO - Au moins un test n\\'est pas validé')) \n",
    "    print('Information sur le test non valide:')\n",
    "    print(e)  \n",
    "    raise e\n",
    "else:\n",
    "    print(\"\\033[92m {}\\033[00m\" .format('Ok - Tous les tests sont validés.')) \n",
    "  "
   ]
  },
  {
   "cell_type": "markdown",
   "metadata": {},
   "source": [
    "En utilisant le tableau `nom_ville` défini au TP 2 et la fonction `np.argsort` qui permet d'ordonner les indices du vecteur `dist_Caen` selon l'ordre croissant des distances associées, donnez le nom des 10 villes les plus proches de *Caen*.\n",
    "\n",
    "Pour cela vous compléterez la fonction `affichage_sans_mise_en_forme_10procheCaen`. Cette fonction ne retourne rien et fait l'affichage du résultat. Le rendu doit être similaire à : \n",
    "```\n",
    "['Hérouville-Saint-Clair' 'Louvigny' 'Mondeville'\n",
    "'Saint-Germain-la-Blanche-Herbe' 'Epron' 'Colombelles' 'Fleury-sur-Orne'\n",
    "'Giberville' 'Bretteville-sur-Odon' 'Saint-Contest']\n",
    "```"
   ]
  },
  {
   "cell_type": "code",
   "execution_count": null,
   "metadata": {
    "deletable": false,
    "nbgrader": {
     "cell_type": "code",
     "checksum": "1db3ad8909311df99e54af9b66ba214c",
     "grade": false,
     "grade_id": "cell-685f2bf18d70972e",
     "locked": false,
     "schema_version": 3,
     "solution": true,
     "task": false
    }
   },
   "outputs": [],
   "source": [
    "def affichage_sans_mise_en_forme_10procheCaen():\n",
    "    # YOUR CODE HERE\n",
    "    raise NotImplementedError()\n",
    "\n",
    "print('\\033[34mAffichage sans mise en forme:\\033[0m\\n') \n",
    "affichage_sans_mise_en_forme_10procheCaen()"
   ]
  },
  {
   "cell_type": "code",
   "execution_count": null,
   "metadata": {
    "deletable": false,
    "editable": false,
    "nbgrader": {
     "cell_type": "code",
     "checksum": "5c6ec68877ed20599e31f3377c7e8eb0",
     "grade": true,
     "grade_id": "cell-5b730fca8fec5510",
     "locked": true,
     "points": 1,
     "schema_version": 3,
     "solution": false,
     "task": false
    }
   },
   "outputs": [],
   "source": [
    "# Ce bloc permet de valider votre code. Vous ne devez pas le modifier. \n",
    "_str_print_ = StringIO()\n",
    "_original_stdout = sys.stdout\n",
    "sys.stdout = _str_print_\n",
    "\n",
    "affichage_sans_mise_en_forme_10procheCaen()\n",
    "try:\n",
    "    np.testing.assert_equal(_str_print_.getvalue().replace('\\n',''),\n",
    "                            \"['Hérouville-Saint-Clair' 'Louvigny' 'Mondeville'\\n 'Saint-Germain-la-Blanche-Herbe' 'Epron' 'Colombelles' 'Fleury-sur-Orne'\\n 'Giberville' 'Bretteville-sur-Odon' 'Saint-Contest']\\n\".replace('\\n',''),\n",
    "                           err_msg=\"\\033[93m {}\\033[00m\" .format('Test 1 : l\\'affichage n\\'est pas conforme au rendu attendu.')\n",
    "                           )\n",
    "except Exception as e: \n",
    "    sys.stdout = _original_stdout\n",
    "    print(\"\\033[91m {}\\033[00m\" .format('KO - Au moins un test n\\'est pas validé')) \n",
    "    print('Information sur le test non valide:')\n",
    "    print(e)\n",
    "    raise e\n",
    "else:\n",
    "    sys.stdout = _original_stdout\n",
    "    print(\"\\033[92m {}\\033[00m\" .format('Ok - Tous les tests sont validés.'))\n"
   ]
  },
  {
   "cell_type": "markdown",
   "metadata": {},
   "source": [
    "En utilisant une boucle `for` mettez en forme l'affichage pour avoir le rendu suivant:\n",
    "```\n",
    "Hérouville-Saint-Clair est à une distance de 3.05km de Caen.\n",
    "Louvigny est à une distance de 3.05km de Caen.\n",
    "Mondeville est à une distance de 3.05km de Caen.\n",
    "Saint-Germain-la-Blanche-Herbe est à une distance de 3.63km de Caen.\n",
    "Epron est à une distance de 3.9km de Caen.\n",
    "Colombelles est à une distance de 4.08km de Caen.\n",
    "Fleury-sur-Orne est à une distance de 4.43km de Caen.\n",
    "Giberville est à une distance de 4.84km de Caen.\n",
    "Bretteville-sur-Odon est à une distance de 5.19km de Caen.\n",
    "Saint-Contest est à une distance de 5.19km de Caen.\n",
    "```\n",
    "Vous utiliserez la fonction `np.round` pour les arrondis."
   ]
  },
  {
   "cell_type": "code",
   "execution_count": null,
   "metadata": {
    "deletable": false,
    "nbgrader": {
     "cell_type": "code",
     "checksum": "84eea8f1ce3c47e8e6e39b28f2a1a9fb",
     "grade": false,
     "grade_id": "cell-36af4be7534d5249",
     "locked": false,
     "schema_version": 3,
     "solution": true,
     "task": false
    }
   },
   "outputs": [],
   "source": [
    "def affichage_avec_mise_en_forme_10procheCaen():\n",
    "    # YOUR CODE HERE\n",
    "    raise NotImplementedError()\n",
    "    \n",
    "print('\\033[34mAffichage avec mise en forme: \\033[0m')\n",
    "print()\n",
    "affichage_avec_mise_en_forme_10procheCaen() \n",
    " \n",
    "    "
   ]
  },
  {
   "cell_type": "code",
   "execution_count": null,
   "metadata": {
    "deletable": false,
    "editable": false,
    "nbgrader": {
     "cell_type": "code",
     "checksum": "d637bf74db31ae978b8853102fbfbb0e",
     "grade": true,
     "grade_id": "cell-02a77da5569e8447",
     "locked": true,
     "points": 1,
     "schema_version": 3,
     "solution": false,
     "task": false
    }
   },
   "outputs": [],
   "source": [
    "# Ce bloc permet de valider votre code. Vous ne devez pas le modifier. \n",
    "_str_print_ = StringIO()\n",
    "_original_stdout = sys.stdout\n",
    "sys.stdout = _str_print_\n",
    "\n",
    "affichage_avec_mise_en_forme_10procheCaen()\n",
    "try:\n",
    "    np.testing.assert_equal(_str_print_.getvalue(),\n",
    "                            \"Hérouville-Saint-Clair est à une distance de 3.05km de Caen.\\n\\\n",
    "Louvigny est à une distance de 3.05km de Caen.\\n\\\n",
    "Mondeville est à une distance de 3.05km de Caen.\\n\\\n",
    "Saint-Germain-la-Blanche-Herbe est à une distance de 3.63km de Caen.\\n\\\n",
    "Epron est à une distance de 3.9km de Caen.\\n\\\n",
    "Colombelles est à une distance de 4.08km de Caen.\\n\\\n",
    "Fleury-sur-Orne est à une distance de 4.43km de Caen.\\n\\\n",
    "Giberville est à une distance de 4.84km de Caen.\\n\\\n",
    "Bretteville-sur-Odon est à une distance de 5.19km de Caen.\\n\\\n",
    "Saint-Contest est à une distance de 5.19km de Caen.\\n\",\n",
    "                           err_msg=\"\\033[93m {}\\033[00m\" .format('Test 1 : l\\'affichage n\\'est pas conforme au rendu attendu.')\n",
    "                           )\n",
    "except Exception as e: \n",
    "    sys.stdout = _original_stdout\n",
    "    print(\"\\033[91m {}\\033[00m\" .format('KO - Au moins un test n\\'est pas validé')) \n",
    "    print('Information sur le test non valide:')\n",
    "    print(e)\n",
    "    raise e\n",
    "else:\n",
    "    sys.stdout = _original_stdout\n",
    "    print(\"\\033[92m {}\\033[00m\" .format('Ok - Tous les tests sont validés.'))"
   ]
  },
  {
   "cell_type": "markdown",
   "metadata": {},
   "source": [
    "Vous ferez de même avec le calcul des 10 villes les plus éloignées de *Rouen*."
   ]
  },
  {
   "cell_type": "code",
   "execution_count": null,
   "metadata": {
    "deletable": false,
    "nbgrader": {
     "cell_type": "code",
     "checksum": "5f3072fa1bd04b7eecf1d75fb1f5dfad",
     "grade": false,
     "grade_id": "cell-f0b9f7a566a666cf",
     "locked": false,
     "schema_version": 3,
     "solution": true,
     "task": false
    }
   },
   "outputs": [],
   "source": [
    "def affichage_sans_mise_en_forme_10loinRouen():\n",
    "    # YOUR CODE HERE\n",
    "    raise NotImplementedError()\n",
    "\n",
    "def affichage_avec_mise_en_forme_10loinRouen():\n",
    "    # YOUR CODE HERE\n",
    "    raise NotImplementedError()\n",
    "    \n",
    "print('\\033[34mAffichage sans mise en forme:\\033[0m')\n",
    "affichage_sans_mise_en_forme_10loinRouen()\n",
    "\n",
    "print()\n",
    "print('\\033[34mAffichage avec mise en forme: \\033[0m')\n",
    "affichage_avec_mise_en_forme_10loinRouen()"
   ]
  },
  {
   "cell_type": "code",
   "execution_count": null,
   "metadata": {
    "deletable": false,
    "editable": false,
    "nbgrader": {
     "cell_type": "code",
     "checksum": "deb140a2057003101496b79197eb739d",
     "grade": true,
     "grade_id": "cell-d64f020573540abe",
     "locked": true,
     "points": 1,
     "schema_version": 3,
     "solution": false,
     "task": false
    }
   },
   "outputs": [],
   "source": [
    "# Ce bloc permet de valider votre code. Vous ne devez pas le modifier. \n",
    "_str_print_ = StringIO()\n",
    "_original_stdout = sys.stdout\n",
    "sys.stdout = _str_print_\n",
    "\n",
    "try:\n",
    "    affichage_sans_mise_en_forme_10loinRouen()\n",
    "    np.testing.assert_equal(_str_print_.getvalue().replace('\\n',''),\n",
    "                            \"['Auderville' 'Saint-Germain-des-Vaux' 'Jobourg' 'Omonville-la-Petite'\\n 'Herqueville' 'Digulleville' 'Pontorson' 'Omonville-la-Rogue'\\n 'Flamanville' 'Beaumont-Hague']\\n\".replace('\\n',''),\n",
    "                           err_msg=\"\\033[93m {}\\033[00m\" .format('Test 1 : l\\'affichage sans mise en forme n\\'est pas conforme au rendu attendu.')\n",
    "                           )\n",
    "    _str_print_.truncate(0)\n",
    "    _str_print_.seek(0)\n",
    "    affichage_avec_mise_en_forme_10loinRouen()\n",
    "    np.testing.assert_equal(_str_print_.getvalue(),\n",
    "                            \"Auderville est à une distance de 219.43km de Rouen.\\n\\\n",
    "Saint-Germain-des-Vaux est à une distance de 218.67km de Rouen.\\n\\\n",
    "Jobourg est à une distance de 217.1km de Rouen.\\n\\\n",
    "Omonville-la-Petite est à une distance de 215.85km de Rouen.\\n\\\n",
    "Herqueville est à une distance de 215.44km de Rouen.\\n\\\n",
    "Digulleville est à une distance de 214.66km de Rouen.\\n\\\n",
    "Pontorson est à une distance de 213.48km de Rouen.\\n\\\n",
    "Omonville-la-Rogue est à une distance de 213.47km de Rouen.\\n\\\n",
    "Flamanville est à une distance de 213.25km de Rouen.\\n\\\n",
    "Beaumont-Hague est à une distance de 213.06km de Rouen.\\n\",\n",
    "                           err_msg=\"\\033[93m {}\\033[00m\" .format('Test 2 : l\\'affichage avec mise en forme n\\'est pas conforme au rendu attendu.')\n",
    "                           )\n",
    "except Exception as e: \n",
    "    sys.stdout = _original_stdout\n",
    "    print(\"\\033[91m {}\\033[00m\" .format('KO - Au moins un test n\\'est pas validé')) \n",
    "    print('Information sur le test non valide:')\n",
    "    print(e)\n",
    "    raise e\n",
    "else:\n",
    "    sys.stdout = _original_stdout\n",
    "    print(\"\\033[92m {}\\033[00m\" .format('Ok - Tous les tests sont validés.'))"
   ]
  },
  {
   "cell_type": "markdown",
   "metadata": {},
   "source": [
    "Affichez les villes de Normandie dans une figure matplotlib et mettez :\n",
    "- en jaune, *Caen* et *Rouen*, \n",
    "- en vert, les 10 villes les plus proches de *Caen*,\n",
    "- en rouge, les 10 villes les plus loin de *Rouen*.\n",
    "\n",
    "Le rendu devrait être similaire à :\n",
    "<div align=center>\n",
    " <img src=\"data:image/png;base64,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\">\n",
    "   </div>"
   ]
  },
  {
   "cell_type": "code",
   "execution_count": null,
   "metadata": {
    "deletable": false,
    "nbgrader": {
     "cell_type": "code",
     "checksum": "c7c31c73ddb8a4f7becfb3a1436e2a0c",
     "grade": true,
     "grade_id": "cell-e183ab8e06dd27a5",
     "locked": false,
     "points": 1,
     "schema_version": 3,
     "solution": true,
     "task": false
    }
   },
   "outputs": [],
   "source": [
    "# YOUR CODE HERE\n",
    "raise NotImplementedError()"
   ]
  },
  {
   "cell_type": "markdown",
   "metadata": {},
   "source": [
    "3 - Histogramme des distances des villes\n",
    "----"
   ]
  },
  {
   "cell_type": "markdown",
   "metadata": {},
   "source": [
    "Au moyen de la fonction `np.histogram`(voir le TP1) calculez et affichez l’histogramme des distances entre villes de Normandie. Le résultat devrait être proche de la figure suivante:\n",
    "<div align=center>\n",
    " <img src=\"data:image/png;base64,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\">\n",
    "   </div>"
   ]
  },
  {
   "cell_type": "code",
   "execution_count": null,
   "metadata": {
    "deletable": false,
    "nbgrader": {
     "cell_type": "code",
     "checksum": "82970c2f25ec5033bd1200e5ab7a1f7b",
     "grade": true,
     "grade_id": "cell-95d8cbdfc21f38e2",
     "locked": false,
     "points": 1,
     "schema_version": 3,
     "solution": true,
     "task": false
    }
   },
   "outputs": [],
   "source": [
    "# YOUR CODE HERE\n",
    "raise NotImplementedError()"
   ]
  },
  {
   "cell_type": "markdown",
   "metadata": {},
   "source": [
    "4 - Le début de l'épidémie\n",
    "----"
   ]
  },
  {
   "cell_type": "markdown",
   "metadata": {},
   "source": [
    "Affichez les villes normandes à l'écran avec `matplotlib`. Ajoutez aux arguments de la fonction `plt.scatter` les valeurs `color='b',marker='s',s=5,alpha=0.1`. À votre avis que font ces arguments ?"
   ]
  },
  {
   "cell_type": "code",
   "execution_count": null,
   "metadata": {
    "deletable": false,
    "nbgrader": {
     "cell_type": "code",
     "checksum": "349f9631cdc144b8a74e9c2328060e74",
     "grade": true,
     "grade_id": "cell-0688e666fd48af29",
     "locked": false,
     "points": 1,
     "schema_version": 3,
     "solution": true,
     "task": false
    }
   },
   "outputs": [],
   "source": [
    "# YOUR CODE HERE\n",
    "raise NotImplementedError()"
   ]
  },
  {
   "cell_type": "raw",
   "metadata": {},
   "source": [
    "# Expliquez l'effet des arguments"
   ]
  },
  {
   "cell_type": "markdown",
   "metadata": {},
   "source": [
    "Pour le début de l'épidémie nous allons considérer que chaque ville à un risque de $\\\\dfrac{1}{500}$ d'être un foyer de l'infection. Nous allons construire une fonction retournant un vecteur contenant autant d'éléments qu'il y a de villes et dont les valeurs sont soit True (si la ville est un foyer initiale de l'infection) soit False. Pour construire ce vecteur, faites les opérations suivantes :\n",
    "\n",
    "1. Définissez une variable $n$ contenant le nombre de villes de Normandie.\n",
    "2. Tirez au hasard selon une loi uniforme un vecteur `alea` de $n$ valeurs entre 0 et 1.\n",
    "3. Testez si les valeurs du vecteur `alea` sont inférieures à $\\dfrac{1}{500}$. Le résultat de chaque test définira le vecteur `ville_src`. Vous n'avez pas besoin de `for` pour cette question."
   ]
  },
  {
   "cell_type": "code",
   "execution_count": null,
   "metadata": {
    "deletable": false,
    "nbgrader": {
     "cell_type": "code",
     "checksum": "9b897f7a976c705557046cef3dd4813c",
     "grade": false,
     "grade_id": "cell-b088fd6ea47a9684",
     "locked": false,
     "schema_version": 3,
     "solution": true,
     "task": false
    }
   },
   "outputs": [],
   "source": [
    "def init_foyers_epidemie():\n",
    "    # YOUR CODE HERE\n",
    "    raise NotImplementedError()\n",
    "    return villes_src\n",
    "\n",
    "villes_src = init_foyers_epidemie()"
   ]
  },
  {
   "cell_type": "code",
   "execution_count": null,
   "metadata": {
    "deletable": false,
    "editable": false,
    "nbgrader": {
     "cell_type": "code",
     "checksum": "2e286b9972591177a307ed799ec07e01",
     "grade": true,
     "grade_id": "cell-72152c2874d0e1e5",
     "locked": true,
     "points": 1,
     "schema_version": 3,
     "solution": false,
     "task": false
    }
   },
   "outputs": [],
   "source": [
    "# Ce bloc permet de valider votre code. Vous ne devez pas le modifier.  \n",
    "\n",
    "try:    \n",
    "    assert villes_src is not None\n",
    "except Exception as e: \n",
    "    print(\"\\033[91m {}\\033[00m\" .format('KO - Au moins un test n\\'est pas validé')) \n",
    "    print('Information sur le test non valide:')\n",
    "    print('')\n",
    "    print(\"\\033[93m {}\\033[00m\" .format('Test 1 : La fonction init_foyers_epidemie n\\'a pas de valeur de retour.'))\n",
    "    print(e)  \n",
    "    raise e\n",
    "\n",
    "try:          \n",
    "    np.testing.assert_equal(villes_src.shape,(2946,),err_msg=\"\\033[93m {}\\033[00m\" .format('Test 2 : La taille du tableau retournée par init_foyers_epidemie est incorrecte. La sortie doit être de même taille que le nombre de ville de Normandie.'))\n",
    "    np.testing.assert_equal(villes_src.dtype,np.dtype('bool'),err_msg=\"\\033[93m {}\\033[00m\" .format('Test 3 : Les valeurs du tableaux doivent être des booleans.'))\n",
    "    np.testing.assert_array_less(np.sum(villes_src),20,err_msg=\"\\033[93m {}\\033[00m\" .format('Test 4 : Il y a probablement une erreur dans les valeurs créées. Il est possible de raté ce test avec un code correct mais la probabilité est très faible (environ 3 chances sur un million). Dans ce cas relancez le test, si vous continuez à ne pas le valider et que vous pensez que votre code est correct, jouez au loto !'))\n",
    "except Exception as e: \n",
    "    print(\"\\033[91m {}\\033[00m\" .format('KO - Au moins un test n\\'est pas validé')) \n",
    "    print('Information sur le test non valide:')\n",
    "    print(e)  \n",
    "    raise e\n",
    "else:\n",
    "    print(\"\\033[92m {}\\033[00m\" .format('Ok - Tous les tests sont validés.')) \n"
   ]
  },
  {
   "cell_type": "markdown",
   "metadata": {},
   "source": [
    "Reprenez la précédente figure. Superposez sur l'image des points rouges correspondants aux villes contaminées. Si vous relancez le code précédent, les villes en rouges devraient changer."
   ]
  },
  {
   "cell_type": "code",
   "execution_count": null,
   "metadata": {
    "deletable": false,
    "nbgrader": {
     "cell_type": "code",
     "checksum": "34002de53d3a78a42b6b67f9b79fe34d",
     "grade": true,
     "grade_id": "cell-cb885e8b3c958f4a",
     "locked": false,
     "points": 1,
     "schema_version": 3,
     "solution": true,
     "task": false
    }
   },
   "outputs": [],
   "source": [
    "# YOUR CODE HERE\n",
    "raise NotImplementedError()"
   ]
  },
  {
   "cell_type": "markdown",
   "metadata": {},
   "source": [
    "5 - La propagation de la maladie\n",
    "-------"
   ]
  },
  {
   "cell_type": "markdown",
   "metadata": {},
   "source": [
    "On va dans cette partie modéliser la propagation de la maladie. On va supposer\n",
    "que les villes nouvelles contaminées suivent une loi normale centrée sur les villes déjà\n",
    "infectées."
   ]
  },
  {
   "cell_type": "markdown",
   "metadata": {},
   "source": [
    "Définissez une variable $s$ égale à 4. Vous pourrez changer par la suite cette valeur pour accélérer ou ralentir la propagation de la maladie."
   ]
  },
  {
   "cell_type": "code",
   "execution_count": null,
   "metadata": {
    "deletable": false,
    "nbgrader": {
     "cell_type": "code",
     "checksum": "916c0560a837626fa994e5e4ff356fbe",
     "grade": false,
     "grade_id": "cell-300ae22993a5b5a5",
     "locked": false,
     "schema_version": 3,
     "solution": true,
     "task": false
    }
   },
   "outputs": [],
   "source": [
    "# YOUR CODE HERE\n",
    "raise NotImplementedError()"
   ]
  },
  {
   "cell_type": "markdown",
   "metadata": {},
   "source": [
    "Tirez selon une loi normale centrée réduite les valeurs d’une matrice nommée `nouvelle_ville_contamine_valeur`. Cette matrice aura la même taille que la matrice `d_villes`. Elle va nous permettre de choisir les villes nouvellement contaminées en fonction de leurs distances aux villes contaminées."
   ]
  },
  {
   "cell_type": "code",
   "execution_count": null,
   "metadata": {
    "deletable": false,
    "nbgrader": {
     "cell_type": "code",
     "checksum": "7db0ebc7f1bbdb0f6aff47eb83221f19",
     "grade": false,
     "grade_id": "cell-ef0715dd3b3614f6",
     "locked": false,
     "schema_version": 3,
     "solution": true,
     "task": false
    }
   },
   "outputs": [],
   "source": [
    "# YOUR CODE HERE\n",
    "raise NotImplementedError()"
   ]
  },
  {
   "cell_type": "code",
   "execution_count": null,
   "metadata": {
    "deletable": false,
    "editable": false,
    "nbgrader": {
     "cell_type": "code",
     "checksum": "2c2ae4513ffc3aa5054fb0487da916ba",
     "grade": true,
     "grade_id": "cell-80d84bf3ddd2aed8",
     "locked": true,
     "points": 1,
     "schema_version": 3,
     "solution": false,
     "task": false
    }
   },
   "outputs": [],
   "source": [
    "# Ce bloc permet de valider votre code. Vous ne devez pas le modifier.  \n",
    "try:\n",
    "    np.testing.assert_equal(nouvelle_ville_contamine_valeur.shape,d_villes.shape,err_msg=\"\\033[93m {}\\033[00m\" .format('Test 1 : nouvelle_ville_contamine_valeur n\\'a pas la bonne taille. Vérifiez que les dimensions de nouvelle_ville_contamine_valeur et d_villes sont les mêmes.'))\n",
    "    np.testing.assert_array_less(np.abs(np.mean(nouvelle_ville_contamine_valeur)),1e-2,err_msg=\"\\033[93m {}\\033[00m\" .format('Test 2 : Il y a probablement une erreur sur la loi de probabilité que vous utilisez. Elle n\\'est pas centré.'))\n",
    "    np.testing.assert_array_less(np.abs(1-np.std(nouvelle_ville_contamine_valeur)),1e-2,err_msg=\"\\033[93m {}\\033[00m\" .format('Test 3 : Il y a probablement une erreur sur la loi de probabilité que vous utilisez. L\\'écart type de loi normal doit être à 1.'))\n",
    "except Exception as e: \n",
    "    print(\"\\033[91m {}\\033[00m\" .format('KO - Au moins un test n\\'est pas validé')) \n",
    "    print('Information sur le test non valide:')\n",
    "    print(e)  \n",
    "    raise e\n",
    "else:\n",
    "    print(\"\\033[92m {}\\033[00m\" .format('Ok - Tous les tests sont validés.')) \n"
   ]
  },
  {
   "cell_type": "markdown",
   "metadata": {},
   "source": [
    "Multipliez les valeurs de la matrice `nouvelle_ville_contamine_valeur` par $s$ pour fixer la vitesse de propagation. "
   ]
  },
  {
   "cell_type": "code",
   "execution_count": null,
   "metadata": {
    "deletable": false,
    "nbgrader": {
     "cell_type": "code",
     "checksum": "bc337216b0a8f60df7b289bfc7fd3b16",
     "grade": false,
     "grade_id": "cell-481cd7a2da1af4f0",
     "locked": false,
     "schema_version": 3,
     "solution": true,
     "task": false
    }
   },
   "outputs": [],
   "source": [
    "# YOUR CODE HERE\n",
    "raise NotImplementedError()"
   ]
  },
  {
   "cell_type": "code",
   "execution_count": null,
   "metadata": {
    "deletable": false,
    "editable": false,
    "nbgrader": {
     "cell_type": "code",
     "checksum": "1d56fe533fa9420a373f0a17974c4a58",
     "grade": true,
     "grade_id": "cell-fc85de21713e0e72",
     "locked": true,
     "points": 1,
     "schema_version": 3,
     "solution": false,
     "task": false
    }
   },
   "outputs": [],
   "source": [
    "# Ce bloc permet de valider votre code. Vous ne devez pas le modifier.  \n",
    "try:\n",
    "    np.testing.assert_equal(nouvelle_ville_contamine_valeur.shape,d_villes.shape,err_msg=\"\\033[93m {}\\033[00m\" .format('Test 1 : nouvelle_ville_contamine_valeur n\\'a pas la bonne taille. Vérifiez que les dimensions de nouvelle_ville_contamine_valeur et d_villes sont les mêmes.'))\n",
    "    np.testing.assert_array_less(np.abs(np.mean(nouvelle_ville_contamine_valeur)),1e-2,err_msg=\"\\033[93m {}\\033[00m\" .format('Test 2 : Il y a probablement une erreur sur la loi de probabilité que vous utilisez. Elle n\\'est pas centré.'))\n",
    "    np.testing.assert_array_less(np.abs(s-np.std(nouvelle_ville_contamine_valeur)),1e-2,err_msg=\"\\033[93m {}\\033[00m\" .format('Test 3 : la nouvelle valeur de nouvelle_ville_contamine_valeur n\\'est par correcte.'))\n",
    "except Exception as e: \n",
    "    print(\"\\033[91m {}\\033[00m\" .format('KO - Au moins un test n\\'est pas validé')) \n",
    "    print('Information sur le test non valide:')\n",
    "    print(e)  \n",
    "    raise e\n",
    "else:\n",
    "    print(\"\\033[92m {}\\033[00m\" .format('Ok - Tous les tests sont validés.')) "
   ]
  },
  {
   "cell_type": "markdown",
   "metadata": {},
   "source": [
    "Construisez une nouvelle matrice `nouvelle_ville_contamine` qui contient `True` pour les valeurs dans `nouvelle_ville_contamine_valeur` dont la valeur absolue est plus grande que la valeur dans `d_villes` et `False` pour les autres. Cette matrice permet de connaître la contamination potentielle des villes. Les villes en colonne indiquent si la ville serait contaminée dans l'hypothèse où la ville indiquée par la ligne est déjà contaminée."
   ]
  },
  {
   "cell_type": "code",
   "execution_count": null,
   "metadata": {
    "deletable": false,
    "nbgrader": {
     "cell_type": "code",
     "checksum": "e96d3979f10a7a32eeca2e6ee3c18dde",
     "grade": false,
     "grade_id": "cell-ffd31f273af5d704",
     "locked": false,
     "schema_version": 3,
     "solution": true,
     "task": false
    }
   },
   "outputs": [],
   "source": [
    "# YOUR CODE HERE\n",
    "raise NotImplementedError()"
   ]
  },
  {
   "cell_type": "code",
   "execution_count": null,
   "metadata": {
    "deletable": false,
    "editable": false,
    "nbgrader": {
     "cell_type": "code",
     "checksum": "933a8bb8461f720275298cfc2742f43b",
     "grade": true,
     "grade_id": "cell-83e659fdd59d0951",
     "locked": true,
     "points": 1,
     "schema_version": 3,
     "solution": false,
     "task": false
    }
   },
   "outputs": [],
   "source": [
    "# Ce bloc permet de valider votre code. Vous ne devez pas le modifier.  \n",
    "try:\n",
    "    np.testing.assert_equal(nouvelle_ville_contamine.shape,(2946, 2946),err_msg=\"\\033[93m {}\\033[00m\" .format('Test 1 : nouvelle_ville_contamine n\\'a pas la bonne taille. nouvelle_ville_contamine est une matrice carré dont le nombre de ligne correspond au nombre de ville de Normandie.'))\n",
    "    np.testing.assert_equal(nouvelle_ville_contamine.dtype,np.dtype('bool'),err_msg=\"\\033[93m {}\\033[00m\" .format('Test 2 : nouvelle_ville_contamine_valeur doit contenir des booleans.'))\n",
    "    \n",
    "    _tmp1,_tmp2 = np.where(nouvelle_ville_contamine)\n",
    "    np.testing.assert_equal(np.all(np.abs(nouvelle_ville_contamine_valeur[_tmp1,_tmp2]) > d_villes[_tmp1,_tmp2] ),True,err_msg=\"\\033[93m {}\\033[00m\" .format('Test 3 : certaines valeurs ne sont pas correcte.'))\n",
    "except Exception as e: \n",
    "    print(\"\\033[91m {}\\033[00m\" .format('KO - Au moins un test n\\'est pas validé')) \n",
    "    print('Information sur le test non valide:')\n",
    "    print(e)  \n",
    "    raise e\n",
    "else:\n",
    "    print(\"\\033[92m {}\\033[00m\" .format('Ok - Tous les tests sont validés.')) "
   ]
  },
  {
   "cell_type": "markdown",
   "metadata": {},
   "source": [
    "Multipliez la matrice précédente par la matrice `villes_src` et sommez les valeurs suivant les colonnes. Numpy remplacera les valeurs True par 1 et False par 0 pour faire le calcul. Cela produira un vecteur qui compte pour chaque ville le nombre de villes qui sont sources de sa contamination. Si la valeur est 0, la ville n'est pas encore contaminée.\n",
    "Vous placerez le résultat dans la variable `villes_contaminees`."
   ]
  },
  {
   "cell_type": "code",
   "execution_count": null,
   "metadata": {
    "deletable": false,
    "nbgrader": {
     "cell_type": "code",
     "checksum": "89e33c1f5891546748189b960cb6d32c",
     "grade": false,
     "grade_id": "cell-aeb0bbac2e7491df",
     "locked": false,
     "schema_version": 3,
     "solution": true,
     "task": false
    }
   },
   "outputs": [],
   "source": [
    "# YOUR CODE HERE\n",
    "raise NotImplementedError()"
   ]
  },
  {
   "cell_type": "code",
   "execution_count": null,
   "metadata": {
    "deletable": false,
    "editable": false,
    "nbgrader": {
     "cell_type": "code",
     "checksum": "804a01d6c0fd89519f28187c0d345e43",
     "grade": true,
     "grade_id": "cell-925ff56484a48827",
     "locked": true,
     "points": 1,
     "schema_version": 3,
     "solution": false,
     "task": false
    }
   },
   "outputs": [],
   "source": [
    "# Ce bloc permet de valider votre code. Vous ne devez pas le modifier.  \n",
    "try:\n",
    "    np.testing.assert_equal(villes_contaminees.shape,(2946,),err_msg=\"\\033[93m {}\\033[00m\" .format('Test 1 : Les dimensions de villes_contaminees ne sont pas correctes.'))\n",
    "except Exception as e: \n",
    "    print(\"\\033[91m {}\\033[00m\" .format('KO - Au moins un test n\\'est pas validé')) \n",
    "    print('Information sur le test non valide:')\n",
    "    print(e)  \n",
    "    raise e\n",
    "else:\n",
    "    print(\"\\033[92m {}\\033[00m\" .format('Ok - Tous les tests sont validés.')) "
   ]
  },
  {
   "cell_type": "markdown",
   "metadata": {},
   "source": [
    "Testez si les valeurs du vecteur précédent sont supérieures strictement à 0. Si c'est le cas, c'est que la ville est contaminée."
   ]
  },
  {
   "cell_type": "code",
   "execution_count": null,
   "metadata": {
    "deletable": false,
    "nbgrader": {
     "cell_type": "code",
     "checksum": "c7b60096f2dadada4d8b926ade813ed4",
     "grade": false,
     "grade_id": "cell-94ab8e9c4bd9dfd1",
     "locked": false,
     "schema_version": 3,
     "solution": true,
     "task": false
    }
   },
   "outputs": [],
   "source": [
    "# YOUR CODE HERE\n",
    "raise NotImplementedError()"
   ]
  },
  {
   "cell_type": "code",
   "execution_count": null,
   "metadata": {
    "deletable": false,
    "editable": false,
    "nbgrader": {
     "cell_type": "code",
     "checksum": "968f566f00fe1530fd1b28af897eea89",
     "grade": true,
     "grade_id": "cell-960b1d2b6ed23d2e",
     "locked": true,
     "points": 1,
     "schema_version": 3,
     "solution": false,
     "task": false
    }
   },
   "outputs": [],
   "source": [
    "try:\n",
    "    np.testing.assert_equal(villes_contaminees.dtype,np.dtype('bool'),err_msg=\"\\033[93m {}\\033[00m\" .format('Test 1 : Le type des éléments du tableau n\\'est pas correct.'))\n",
    "except Exception as e: \n",
    "    print(\"\\033[91m {}\\033[00m\" .format('KO - Au moins un test n\\'est pas validé')) \n",
    "    print('Information sur le test non valide:')\n",
    "    print(e)  \n",
    "    raise e\n",
    "else:\n",
    "    print(\"\\033[92m {}\\033[00m\" .format('Ok - Tous les tests sont validés.')) "
   ]
  },
  {
   "cell_type": "markdown",
   "metadata": {},
   "source": [
    "Reprenez la figure précédente et affichez-y les villes nouvellement contaminées en vert. Que remarquez-vous sur les villes contaminées au début de l'épidémie ?"
   ]
  },
  {
   "cell_type": "code",
   "execution_count": null,
   "metadata": {
    "deletable": false,
    "nbgrader": {
     "cell_type": "code",
     "checksum": "f720b8689d48a6558aeb3a52d21d9710",
     "grade": true,
     "grade_id": "cell-0686ee21d6c14637",
     "locked": false,
     "points": 1,
     "schema_version": 3,
     "solution": true,
     "task": false
    }
   },
   "outputs": [],
   "source": [
    "# YOUR CODE HERE\n",
    "raise NotImplementedError()"
   ]
  },
  {
   "cell_type": "markdown",
   "metadata": {},
   "source": [
    "À l'aide d'une boucle `for` réitérer plusieurs fois (par exemple 5 fois) les opérations précédentes pour voir la propagation de la maladie au bout d'un certain temps. À chaque itération, on prendra comme `villes_src`, toutes les villes précédemment contaminées. "
   ]
  },
  {
   "cell_type": "code",
   "execution_count": null,
   "metadata": {
    "deletable": false,
    "nbgrader": {
     "cell_type": "code",
     "checksum": "d6ac9b680079281c4509938fe1b741e2",
     "grade": true,
     "grade_id": "cell-1fa82becf06a9925",
     "locked": false,
     "points": 1,
     "schema_version": 3,
     "solution": true,
     "task": false
    }
   },
   "outputs": [],
   "source": [
    "# YOUR CODE HERE\n",
    "raise NotImplementedError()"
   ]
  },
  {
   "cell_type": "markdown",
   "metadata": {},
   "source": [
    "Création d'une animation (partie bonus)\n",
    "-----"
   ]
  },
  {
   "cell_type": "markdown",
   "metadata": {},
   "source": [
    "Étudiez le code suivant. Que fait ce code ? \n",
    "\n",
    "Rq : FFmpeg doit être installé sur la machine pour que le code soit fonctionel."
   ]
  },
  {
   "cell_type": "code",
   "execution_count": null,
   "metadata": {},
   "outputs": [],
   "source": [
    "import matplotlib.animation as animation\n",
    "\n",
    "points = np.zeros((0,2))\n",
    "\n",
    "fig = plt.figure()\n",
    "def updatefig(i):\n",
    "\tglobal points\n",
    "\tfig.clear()\n",
    "\tplt.scatter(points[:,0],points[:,1],color='b',marker='s',s=5,alpha=0.5)\n",
    "\tx = np.random.randn(50,2)\n",
    "\tplt.scatter(x[:,0],x[:,1],color='b',marker='s',s=5)\n",
    "\tplt.draw()\n",
    "\tpoints = np.concatenate([points,x],axis=0)\n",
    "\n",
    "anim = animation.FuncAnimation(fig, updatefig, 20)\t\n",
    "anim.save(\"test.mp4\", fps=5)\n"
   ]
  },
  {
   "cell_type": "code",
   "execution_count": null,
   "metadata": {},
   "outputs": [],
   "source": [
    "%%HTML\n",
    "<video width=\"320\" height=\"240\" controls>\n",
    "  <source src=\"test.mp4\" type=\"video/mp4\">\n",
    "</video>"
   ]
  },
  {
   "cell_type": "raw",
   "metadata": {},
   "source": [
    "Ces codes permettent ..."
   ]
  },
  {
   "cell_type": "markdown",
   "metadata": {},
   "source": [
    "Reprenez le code de la partie précédente et au lieu d'afficher le résultat à l'écran, faites une petite animation de la propagation de la maladie. "
   ]
  },
  {
   "cell_type": "code",
   "execution_count": null,
   "metadata": {
    "deletable": false,
    "nbgrader": {
     "cell_type": "code",
     "checksum": "f81504b6c8cfa01276495b1a30eee903",
     "grade": false,
     "grade_id": "cell-698490666aefcd91",
     "locked": false,
     "schema_version": 3,
     "solution": true,
     "task": false
    }
   },
   "outputs": [],
   "source": [
    "# YOUR CODE HERE\n",
    "raise NotImplementedError()"
   ]
  },
  {
   "cell_type": "code",
   "execution_count": null,
   "metadata": {},
   "outputs": [],
   "source": [
    "%%HTML\n",
    "<video width=\"320\" height=\"240\" controls>\n",
    "  <source src=\"test2.mp4\" type=\"video/mp4\">\n",
    "</video>"
   ]
  },
  {
   "cell_type": "code",
   "execution_count": null,
   "metadata": {},
   "outputs": [],
   "source": []
  }
 ],
 "metadata": {
  "kernelspec": {
   "display_name": "Python 3",
   "language": "python",
   "name": "python3"
  },
  "language_info": {
   "codemirror_mode": {
    "name": "ipython",
    "version": 3
   },
   "file_extension": ".py",
   "mimetype": "text/x-python",
   "name": "python",
   "nbconvert_exporter": "python",
   "pygments_lexer": "ipython3",
   "version": "3.8.2"
  }
 },
 "nbformat": 4,
 "nbformat_minor": 4
}
