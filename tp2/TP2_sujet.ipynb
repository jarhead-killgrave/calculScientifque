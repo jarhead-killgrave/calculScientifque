{
 "cells": [
  {
   "cell_type": "markdown",
   "metadata": {},
   "source": [
    " TP  2 : Les villes de France\n",
    " ====="
   ]
  },
  {
   "cell_type": "markdown",
   "metadata": {},
   "source": [
    "1 - Introduction \n",
    "------\n",
    "\n",
    "\n",
    "L'objectif de ce TP est d'aller plus loin dans l'utilisation de numpy en réalisant un programme qui permette de calculer des distances entre villes. \n",
    "\n",
    "Le TP se décomposera en deux parties. Dans un premier temps, nous étudirons plusieurs approches pour calculer des distances avec les librairies `numpy` et `scipy` sur un exemple de synthèse. Puis dans un second temps, nous appliquerons ces principes pour calculer les distances entre les villes de Normandie.\n",
    "\n",
    "Le TP sera à réaliser en python 3. Les librairies utilisées sont installées sur les machines de l'université, vous pouvez néanmoins les installer sur vos propres machines à l'aide de l'utilitaire pip présent par défaut avec python.\n",
    "\t\n",
    "N'hésitez pas à regarder régulièrement la documentation de ces librairies, des exemples d'utilisation accompagnent généralement l'explication de chaque fonction.\n",
    "\n",
    "- Python 3: https://docs.python.org/3/\n",
    "- Numpy: https://docs.scipy.org/doc/numpy/reference/\n",
    "- Scipy: https://docs.scipy.org/doc/scipy/reference/\n",
    "- Matplotilb: https://matplotlib.org/contents.html\n",
    "\n",
    "**<span style=\"color:red\"> À part si cela est précisé, vous ne devez pas utiliser directement de boucle (`for`,`while`) ou de branchement conditionnel (`if`) durant ce TP.</span>.**"
   ]
  },
  {
   "cell_type": "code",
   "execution_count": 1,
   "metadata": {},
   "outputs": [],
   "source": [
    "import numpy as np\n",
    "import scipy as sc\n",
    "import scipy.spatial\n",
    "import matplotlib.pyplot as plt"
   ]
  },
  {
   "cell_type": "markdown",
   "metadata": {},
   "source": [
    "Afin de vous guider dans la détection d'erreur dans votre code. Nous avons introduit des blocs de tests. Il n'est pas nécessaire que vous compreniez en détail le code de ces blocs. Vous devez uniquement les exécuter et corriger les erreurs de votre code si un des tests n'est pas valide. Il est important de noter que le fait de valider le test ne garantie pas que votre code ne contient pas d'erreur. Par contre un test non validé implique nécessairement que votre code contient une erreur.\n",
    "\n",
    "- Si tout les tests sont valides, vous aurez un message écrit en vert indiquant : Ok - Tous les tests sont validés.\n",
    "- Si un des tests n'est pas valide, vous aurez un message écrit en rouge indiquant : Au moins un test n'est pas validé.\n",
    "- Pour les tests n'ont valide, vous aurez des éléments d'information sur le test non valide. En particulier, un message écrit en jaune vous détaillera la nature du test échoué."
   ]
  },
  {
   "cell_type": "markdown",
   "metadata": {},
   "source": [
    "Voici un exemple d'utilisation. Le bloc suivant est censé contenir l'affectation de la valeur 42 à la variable `a`. Le bloc de test d'après vérifie que vous avez correctement effectué l'affectation. Exécutez les deux blocs avec des valeurs de `a` correcte et incorrecte."
   ]
  },
  {
   "cell_type": "code",
   "execution_count": 2,
   "metadata": {},
   "outputs": [],
   "source": [
    "a = 42"
   ]
  },
  {
   "cell_type": "code",
   "execution_count": 3,
   "metadata": {},
   "outputs": [
    {
     "name": "stdout",
     "output_type": "stream",
     "text": [
      "\u001b[92m Ok - Tous les tests sont validés.\u001b[00m\n"
     ]
    }
   ],
   "source": [
    "# Ce bloc permet de valider votre code. Vous ne devez pas le modifier.  \n",
    "try:\n",
    "    np.testing.assert_equal(a,42,err_msg=\"\\033[93m {}\\033[00m\" .format('Test 1 : a n\\'est pas égale à 42. Vérifiez que a==42'))\n",
    "except Exception as e: \n",
    "    print(\"\\033[91m {}\\033[00m\" .format('KO - Au moins un test n\\'est pas validé')) \n",
    "    print('Information sur le test non valide:')\n",
    "    print(e)\n",
    "    \n",
    "else:\n",
    "    print(\"\\033[92m {}\\033[00m\" .format('Ok - Tous les tests sont validés.')) "
   ]
  },
  {
   "cell_type": "markdown",
   "metadata": {},
   "source": [
    "2 - Le calcul de distance avec `numpy` et `scipy`.\n",
    "----"
   ]
  },
  {
   "cell_type": "markdown",
   "metadata": {},
   "source": [
    "### 2.1 - Création de données de synthèses"
   ]
  },
  {
   "cell_type": "markdown",
   "metadata": {},
   "source": [
    "Dans cette première section, nous créerons un ensemble de points pour tester ensuite différentes stratégies de calcul de distances entre ces points."
   ]
  },
  {
   "cell_type": "markdown",
   "metadata": {},
   "source": [
    "Créez un vecteur `x` de 10 valeurs entre 0 et $2\\pi$ ($2\\pi$ compris). "
   ]
  },
  {
   "cell_type": "code",
   "execution_count": 4,
   "metadata": {},
   "outputs": [],
   "source": []
  },
  {
   "cell_type": "code",
   "execution_count": 5,
   "metadata": {},
   "outputs": [
    {
     "name": "stdout",
     "output_type": "stream",
     "text": [
      "\u001b[92m Ok - Tous les tests sont validés.\u001b[00m\n"
     ]
    }
   ],
   "source": [
    "# Ce bloc permet de valider votre code. Vous ne devez pas le modifier.  \n",
    "try:\n",
    "    np.testing.assert_equal(len(x),10,err_msg=\"\\033[93m {}\\033[00m\" .format('Test 1 : x n\\'a pas le bon nombre d\\'élément. Vérifiez que len(x)==10'))\n",
    "    np.testing.assert_equal(x[0],0,err_msg=\"\\033[93m {}\\033[00m\" .format('Test 2 : la première valeur de x n\\'est pas 0.'))\n",
    "    np.testing.assert_equal(x[-1],2*np.pi,err_msg=\"\\033[93m {}\\033[00m\" .format('Test 3 : la dernière valeur de x n\\'est pas 2pi.'))\n",
    "except Exception as e: \n",
    "    print(\"\\033[91m {}\\033[00m\" .format('KO - Au moins un test n\\'est pas validé')) \n",
    "    print('Information sur le test non valide:')\n",
    "    print(e)\n",
    "    \n",
    "else:\n",
    "    print(\"\\033[92m {}\\033[00m\" .format('Ok - Tous les tests sont validés.')) "
   ]
  },
  {
   "cell_type": "markdown",
   "metadata": {},
   "source": [
    "Concaténez les vecteurs $cos(x)$ et $sin(x)$ pour former un tableau `p` de taille (10,2)."
   ]
  },
  {
   "cell_type": "code",
   "execution_count": 6,
   "metadata": {},
   "outputs": [],
   "source": []
  },
  {
   "cell_type": "code",
   "execution_count": 7,
   "metadata": {},
   "outputs": [
    {
     "name": "stdout",
     "output_type": "stream",
     "text": [
      "\u001b[92m Ok - Tous les tests sont validés.\u001b[00m\n"
     ]
    }
   ],
   "source": [
    "# Ce bloc permet de valider votre code. Vous ne devez pas le modifier.  \n",
    "try:\n",
    "    np.testing.assert_equal(p.shape,(10,2),err_msg=\"\\033[93m {}\\033[00m\" .format('Test 1 : Dimension du tableau p incorrecte. Vérifiez que p.shape==(10,2).'))\n",
    "    np.testing.assert_almost_equal(p[3,0],-0.5,err_msg=\"\\033[93m {}\\033[00m\" .format('Test 2 : La première colonne ne contient pas cos(x).'))\n",
    "    np.testing.assert_almost_equal(p[3,1],np.sin(np.pi/3),err_msg=\"\\033[93m {}\\033[00m\" .format('Test 3 : La deuxième colonne ne contient pas sin(x).'))\n",
    "\n",
    "except Exception as e: \n",
    "    print(\"\\033[91m {}\\033[00m\" .format('KO - Au moins un test n\\'est pas validé')) \n",
    "    print('Information sur le test non valide:')\n",
    "    print(e)\n",
    "    \n",
    "else:\n",
    "    print(\"\\033[92m {}\\033[00m\" .format('Ok - Tous les tests sont validés.')) "
   ]
  },
  {
   "cell_type": "markdown",
   "metadata": {},
   "source": [
    "Affichez les 10 points que nous venons de créer avec la fonction `plt.scatter`. Vous pouvez ajouter `plt.axis('equal')` pour avoir des axes orthonormaux."
   ]
  },
  {
   "cell_type": "code",
   "execution_count": 8,
   "metadata": {},
   "outputs": [
    {
     "data": {
      "image/png": "[encoded data removed]",
      "text/plain": [
       "<Figure size 432x288 with 1 Axes>"
      ]
     },
     "metadata": {
      "needs_background": "light"
     },
     "output_type": "display_data"
    }
   ],
   "source": []
  },
  {
   "cell_type": "markdown",
   "metadata": {},
   "source": [
    "### 2.2 Calcul de distances euclidiennes entre points en utilisant seulement `numpy`."
   ]
  },
  {
   "cell_type": "markdown",
   "metadata": {},
   "source": [
    "Dans cette partie nous allons calculer la distance entre les 10 points se trouvant dans le tableau `p` en utilisant uniquement la librairie `numpy`. La solution que l'on va mettre en place n'est pas l'unique solution possible avec cette librairie (vous trouverez notament une autre solution dans le cours 2). A la fin de cette partie, nous aurons une matrice qui permet de retrouver la distance entre deux points en regardant la case associé aux 2 points. Par exemple la case de coordonnée (2,3) donne la distance entre le point `p[2]` et le point `p[3]`. \n",
    "\n"
   ]
  },
  {
   "cell_type": "markdown",
   "metadata": {},
   "source": [
    "Créez deux versions de la matrice `p` de dimensions respectivement (1,10,2) et (10,1,2) que vous nommerez `p1` et `p2`."
   ]
  },
  {
   "cell_type": "code",
   "execution_count": 9,
   "metadata": {},
   "outputs": [],
   "source": []
  },
  {
   "cell_type": "code",
   "execution_count": 10,
   "metadata": {},
   "outputs": [
    {
     "name": "stdout",
     "output_type": "stream",
     "text": [
      "\u001b[92m Ok - Tous les tests sont validés.\u001b[00m\n"
     ]
    }
   ],
   "source": [
    "# Ce bloc permet de valider votre code. Vous ne devez pas le modifier.  \n",
    "try:\n",
    "    np.testing.assert_equal(p1.shape,(1,10,2),err_msg=\"\\033[93m {}\\033[00m\" .format('Test 1 : Dimension du tableau p1 incorrecte. Vérifiez que p1.shape==(1,10,2).'))\n",
    "    np.testing.assert_equal(p2.shape,(10,1,2),err_msg=\"\\033[93m {}\\033[00m\" .format('Test 2 : Dimension du tableau p1 incorrecte. Vérifiez que p1.shape==(10,1,2).'))\n",
    "    np.testing.assert_equal(p1[0,:,:],p2[:,0,:],err_msg=\"\\033[93m {}\\033[00m\" .format('Test 3 : Les valeurs de p1 ou p2 sont incorrectes.'))\n",
    "    np.testing.assert_equal(p1.reshape(-1),p.reshape(-1),err_msg=\"\\033[93m {}\\033[00m\" .format('Test 4 : Les valeurs de p1 sont incorrectes.'))\n",
    "    np.testing.assert_equal(p2.reshape(-1),p.reshape(-1),err_msg=\"\\033[93m {}\\033[00m\" .format('Test 5 : Les valeurs de p2 sont incorrectes.'))\n",
    "    \n",
    "except Exception as e: \n",
    "    print(\"\\033[91m {}\\033[00m\" .format('KO - Au moins un test n\\'est pas validé')) \n",
    "    print('Information sur le test non valide:')\n",
    "    print(e)\n",
    "    \n",
    "else:\n",
    "    print(\"\\033[92m {}\\033[00m\" .format('Ok - Tous les tests sont validés.')) "
   ]
  },
  {
   "cell_type": "markdown",
   "metadata": {},
   "source": [
    "En utilisant les deux tableaux `p1` et `p2` et le mécanisme de broadcasting, calculez la soustraction de toutes les valeurs de `p` entre elles. Le résultat se nommera `s` et sera de taille (10,10,2)."
   ]
  },
  {
   "cell_type": "code",
   "execution_count": 11,
   "metadata": {},
   "outputs": [],
   "source": []
  },
  {
   "cell_type": "code",
   "execution_count": 12,
   "metadata": {},
   "outputs": [
    {
     "name": "stdout",
     "output_type": "stream",
     "text": [
      "\u001b[92m Ok - Tous les tests sont validés.\u001b[00m\n"
     ]
    }
   ],
   "source": [
    "# Ce bloc permet de valider votre code. Vous ne devez pas le modifier.  \n",
    "try:\n",
    "    np.testing.assert_equal(s.shape,(10,10,2),err_msg=\"\\033[93m {}\\033[00m\" .format('Test 1 : Dimension du tableau s incorrecte. Vérifiez que s.shape==(10,10,2).'))\n",
    "    np.testing.assert_almost_equal(s[3,4,:],\n",
    "                                   [np.cos(2*np.pi*4/9)-np.cos(2*np.pi*3/9),np.sin(2*np.pi*4/9)-np.sin(2*np.pi*3/9)],\n",
    "                                   err_msg=\"\\033[93m {}\\033[00m\" .format('Test 2 : Valeurs de s incorrectes (ex: la case de coordonnées  [3,4])')\n",
    "                                  )\n",
    "\n",
    "    \n",
    "    \n",
    "except Exception as e: \n",
    "    print(\"\\033[91m {}\\033[00m\" .format('KO - Au moins un test n\\'est pas validé')) \n",
    "    print('Information sur le test non valide:')\n",
    "    print(e)\n",
    "    \n",
    "else:\n",
    "    print(\"\\033[92m {}\\033[00m\" .format('Ok - Tous les tests sont validés.')) "
   ]
  },
  {
   "cell_type": "markdown",
   "metadata": {},
   "source": [
    "Faites la somme des carrés des valeurs de `s` selon le dernier axe. Le résultat se nommera `dist2`."
   ]
  },
  {
   "cell_type": "code",
   "execution_count": 13,
   "metadata": {},
   "outputs": [
    {
     "name": "stdout",
     "output_type": "stream",
     "text": [
      "Dimensions de dist2: (10, 10)\n"
     ]
    }
   ],
   "source": []
  },
  {
   "cell_type": "code",
   "execution_count": 14,
   "metadata": {},
   "outputs": [
    {
     "name": "stdout",
     "output_type": "stream",
     "text": [
      "\u001b[92m Ok - Tous les tests sont validés.\u001b[00m\n"
     ]
    }
   ],
   "source": [
    "# Ce bloc permet de valider votre code. Vous ne devez pas le modifier.  \n",
    "try:\n",
    "    np.testing.assert_equal(dist2.shape,(10,10),err_msg=\"\\033[93m {}\\033[00m\" .format('Test 1 : Dimension du tableau dist2 incorrecte. Vérifiez que dist2.shape==(10,10).'))\n",
    "    np.testing.assert_almost_equal(s[8,2,0]**2+s[8,2,1]**2,\n",
    "                                   dist2[8,2],\n",
    "                                   err_msg=\"\\033[93m {}\\033[00m\" .format('Test 2 : Valeurs de dist2 incorrectes  (ex: la case de coordonnées [7,2])')\n",
    "                                  )\n",
    "\n",
    "    \n",
    "    \n",
    "except Exception as e: \n",
    "    print(\"\\033[91m {}\\033[00m\" .format('KO - Au moins un test n\\'est pas validé')) \n",
    "    print('Information sur le test non valide:')\n",
    "    print(e)\n",
    "    \n",
    "else:\n",
    "    print(\"\\033[92m {}\\033[00m\" .format('Ok - Tous les tests sont validés.')) "
   ]
  },
  {
   "cell_type": "markdown",
   "metadata": {},
   "source": [
    "Calculez la racine carré des valeurs de `dist2` que vous mettrez dans la variable `dist_numpy`. Les cases de ce tableaux correspondent aux distances euclidiennes entre chacun des points."
   ]
  },
  {
   "cell_type": "code",
   "execution_count": 15,
   "metadata": {},
   "outputs": [],
   "source": []
  },
  {
   "cell_type": "code",
   "execution_count": 16,
   "metadata": {},
   "outputs": [
    {
     "name": "stdout",
     "output_type": "stream",
     "text": [
      "\u001b[92m Ok - Tous les tests sont validés.\u001b[00m\n"
     ]
    }
   ],
   "source": [
    "# Ce bloc permet de valider votre code. Vous ne devez pas le modifier.  \n",
    "try:\n",
    "    np.testing.assert_equal(dist_numpy.shape,(10,10),err_msg=\"\\033[93m {}\\033[00m\" .format('Test 1 : Dimension du tableau dist_numpy incorrecte. Vérifiez que dist_numpy.shape==(10,10).'))\n",
    "    np.testing.assert_almost_equal(dist_numpy**2,dist2,\n",
    "                                   err_msg=\"\\033[93m {}\\033[00m\" .format('Test 2 : Valeurs de dist_numpy incorrectes.')\n",
    "                                  )\n",
    "\n",
    "    \n",
    "    \n",
    "except Exception as e: \n",
    "    print(\"\\033[91m {}\\033[00m\" .format('KO - Au moins un test n\\'est pas validé')) \n",
    "    print('Information sur le test non valide:')\n",
    "    print(e)\n",
    "    \n",
    "else:\n",
    "    print(\"\\033[92m {}\\033[00m\" .format('Ok - Tous les tests sont validés.')) "
   ]
  },
  {
   "cell_type": "markdown",
   "metadata": {},
   "source": [
    "En utilisant `dist_numpy`, quelle est la distance entre le point 3 et le point 5 ? "
   ]
  },
  {
   "cell_type": "code",
   "execution_count": null,
   "metadata": {},
   "outputs": [],
   "source": []
  },
  {
   "cell_type": "markdown",
   "metadata": {},
   "source": [
    "### 2.3 Calcul de distances euclidiennes en utilisant `scipy`."
   ]
  },
  {
   "cell_type": "markdown",
   "metadata": {},
   "source": [
    "La fonction `sc.spatial.distance.pdist` de la librairie *scipy* (https://docs.scipy.org/doc/scipy/reference/generated/scipy.spatial.distance.pdist.html) permet de calculer toutes les distances (par défaut la distance euclidienne) entre les points d'un ensemble de point. Elle retourne ainsi un vecteur qui correspond d'abord à la distance du premier point avec tous les autres, puis la distance du deuxième point avec tous les autres sauf le premier point (en effet la distance entre le deuxième point et le premier est déjà calculée lorsque l'on a calculé la distance entre le premier point et le deuxième)...\n",
    "Cette fonction est optimisée pour calculer chaque distance une seule fois. \n",
    "Utilisez là pour calculer les distances des points `p` entre eux. Vous stockerez le résultat dans `md`."
   ]
  },
  {
   "cell_type": "code",
   "execution_count": 17,
   "metadata": {},
   "outputs": [],
   "source": []
  },
  {
   "cell_type": "code",
   "execution_count": 18,
   "metadata": {},
   "outputs": [
    {
     "name": "stdout",
     "output_type": "stream",
     "text": [
      "\u001b[92m Ok - Tous les tests sont validés.\u001b[00m\n"
     ]
    }
   ],
   "source": [
    "# Ce bloc permet de valider votre code. Vous ne devez pas le modifier.  \n",
    "try:\n",
    "    np.testing.assert_equal(len(md),45,err_msg=\"\\033[93m {}\\033[00m\" .format('Test 1 : Dimension du tableau md incorrecte.'))\n",
    "    np.testing.assert_almost_equal(md,[6.84040287e-01 ,1.28557522e+00 ,1.73205081e+00 ,1.96961551e+00,1.96961551e+00, 1.73205081e+00, 1.28557522e+00, 6.84040287e-01,2.44929360e-16, 6.84040287e-01, 1.28557522e+00, 1.73205081e+00,1.96961551e+00, 1.96961551e+00, 1.73205081e+00, 1.28557522e+00,6.84040287e-01, 6.84040287e-01, 1.28557522e+00, 1.73205081e+00,1.96961551e+00, 1.96961551e+00, 1.73205081e+00, 1.28557522e+00,6.84040287e-01, 1.28557522e+00, 1.73205081e+00, 1.96961551e+00,1.96961551e+00, 1.73205081e+00, 6.84040287e-01, 1.28557522e+00,1.73205081e+00, 1.96961551e+00, 1.96961551e+00, 6.84040287e-01,1.28557522e+00, 1.73205081e+00, 1.96961551e+00, 6.84040287e-01,1.28557522e+00, 1.73205081e+00, 6.84040287e-01, 1.28557522e+00,6.84040287e-01],\n",
    "                                   err_msg=\"\\033[93m {}\\033[00m\" .format('Test 2 : Valeurs de md incorrectes.')\n",
    "                                  )\n",
    "\n",
    "    \n",
    "    \n",
    "except Exception as e: \n",
    "    print(\"\\033[91m {}\\033[00m\" .format('KO - Au moins un test n\\'est pas validé')) \n",
    "    print('Information sur le test non valide:')\n",
    "    print(e)\n",
    "    \n",
    "else:\n",
    "    print(\"\\033[92m {}\\033[00m\" .format('Ok - Tous les tests sont validés.')) "
   ]
  },
  {
   "cell_type": "markdown",
   "metadata": {},
   "source": [
    "Nous allons maintenant réorganiser les valeurs pour avoir une matrice similaire à `dist_numpy` permettant de retrouver facilement la distance entre chaque point. Une case $i,j$ de cette matrice, représente la distance entre le`p[i]` et le point `p[j]`."
   ]
  },
  {
   "cell_type": "markdown",
   "metadata": {},
   "source": [
    "Créez un vecteur `v` des entiers compris ente 0 et 10 (10 exclus)."
   ]
  },
  {
   "cell_type": "code",
   "execution_count": 19,
   "metadata": {},
   "outputs": [],
   "source": []
  },
  {
   "cell_type": "code",
   "execution_count": 20,
   "metadata": {},
   "outputs": [
    {
     "name": "stdout",
     "output_type": "stream",
     "text": [
      "\u001b[92m Ok - Tous les tests sont validés.\u001b[00m\n"
     ]
    }
   ],
   "source": [
    "# Ce bloc permet de valider votre code. Vous ne devez pas le modifier.  \n",
    "try:\n",
    "    np.testing.assert_equal(len(v),10,err_msg=\"\\033[93m {}\\033[00m\" .format('Test 1 : Dimension du tableau v incorrecte.'))\n",
    "    np.testing.assert_equal(v[0],0,err_msg=\"\\033[93m {}\\033[00m\" .format('Test 2 : La première valeur de v n\\'est pas 0.'))\n",
    "    np.testing.assert_equal(v[-1],9,err_msg=\"\\033[93m {}\\033[00m\" .format('Test 3 : La dernière valeur de v n\\'est pas correct. La valeur doit être 9 car 10 est exclus.'))    \n",
    "    np.testing.assert_equal(v[1:]-v[:-1],1,err_msg=\"\\033[93m {}\\033[00m\" .format('Test 4 : L\\'écart entre les valeurs n\\'est pas correct.'))    \n",
    "    \n",
    "except Exception as e: \n",
    "    print(\"\\033[91m {}\\033[00m\" .format('KO - Au moins un test n\\'est pas validé')) \n",
    "    print('Information sur le test non valide:')\n",
    "    print(e)\n",
    "    \n",
    "else:\n",
    "    print(\"\\033[92m {}\\033[00m\" .format('Ok - Tous les tests sont validés.')) "
   ]
  },
  {
   "cell_type": "markdown",
   "metadata": {},
   "source": [
    "Créez une matrice `m` contenant le vecteur `v` répété sur 10 lignes."
   ]
  },
  {
   "cell_type": "code",
   "execution_count": 21,
   "metadata": {},
   "outputs": [
    {
     "name": "stdout",
     "output_type": "stream",
     "text": [
      "m= [[0 1 2 3 4 5 6 7 8 9]\n",
      " [0 1 2 3 4 5 6 7 8 9]\n",
      " [0 1 2 3 4 5 6 7 8 9]\n",
      " [0 1 2 3 4 5 6 7 8 9]\n",
      " [0 1 2 3 4 5 6 7 8 9]\n",
      " [0 1 2 3 4 5 6 7 8 9]\n",
      " [0 1 2 3 4 5 6 7 8 9]\n",
      " [0 1 2 3 4 5 6 7 8 9]\n",
      " [0 1 2 3 4 5 6 7 8 9]\n",
      " [0 1 2 3 4 5 6 7 8 9]]\n"
     ]
    }
   ],
   "source": [
    "m = ?\n",
    "print('m=',m)"
   ]
  },
  {
   "cell_type": "code",
   "execution_count": 22,
   "metadata": {},
   "outputs": [
    {
     "name": "stdout",
     "output_type": "stream",
     "text": [
      "\u001b[92m Ok - Tous les tests sont validés.\u001b[00m\n"
     ]
    }
   ],
   "source": [
    "# Ce bloc permet de valider votre code. Vous ne devez pas le modifier.  \n",
    "try:\n",
    "    np.testing.assert_equal(m.shape,(10,10),err_msg=\"\\033[93m {}\\033[00m\" .format('Test 1 : Dimension du tableau m incorrecte.'))\n",
    "    np.testing.assert_equal(np.sum(m,0),np.linspace(0,90,10),err_msg=\"\\033[93m {}\\033[00m\" .format('Test 2 : Les valeurs de m ne sont pas correcte (au moins une colonne n est pas correcte).'))    \n",
    "    np.testing.assert_equal(np.sum(m,1),45*np.ones(10),err_msg=\"\\033[93m {}\\033[00m\" .format('Test 3 : Les valeurs de m ne sont pas correcte (au moins une ligne n est pas correcte).'))    \n",
    "    \n",
    "except Exception as e: \n",
    "    print(\"\\033[91m {}\\033[00m\" .format('KO - Au moins un test n\\'est pas validé')) \n",
    "    print('Information sur le test non valide:')\n",
    "    print(e)\n",
    "    \n",
    "else:\n",
    "    print(\"\\033[92m {}\\033[00m\" .format('Ok - Tous les tests sont validés.')) "
   ]
  },
  {
   "cell_type": "markdown",
   "metadata": {},
   "source": [
    "Créez un tableau `t` de dimension (10,10,2) contenant une concaténation de la matrice $m$ et de sa transposée. Il est plus simple de répondre à cette question avec la fonction `np.stack`."
   ]
  },
  {
   "cell_type": "code",
   "execution_count": 23,
   "metadata": {},
   "outputs": [],
   "source": []
  },
  {
   "cell_type": "code",
   "execution_count": 24,
   "metadata": {},
   "outputs": [
    {
     "name": "stdout",
     "output_type": "stream",
     "text": [
      "\u001b[92m Ok - Tous les tests sont validés.\u001b[00m\n"
     ]
    }
   ],
   "source": [
    "# Ce bloc permet de valider votre code. Vous ne devez pas le modifier.  \n",
    "try:\n",
    "    np.testing.assert_equal(t.shape,(10,10,2),err_msg=\"\\033[93m {}\\033[00m\" .format('Test 1 : Dimension du tableau t incorrecte.'))\n",
    "    np.testing.assert_equal(t[:,:,0],m,err_msg=\"\\033[93m {}\\033[00m\" .format('Test 2 : la première dimension de profondeur de t ne contient pas m.'))    \n",
    "    np.testing.assert_equal(t[:,:,1],m.T,err_msg=\"\\033[93m {}\\033[00m\" .format('Test 3 : la deuxième dimension de profondeur de t ne contient pas la transposé de m..'))    \n",
    "    \n",
    "except Exception as e: \n",
    "    print(\"\\033[91m {}\\033[00m\" .format('KO - Au moins un test n\\'est pas validé')) \n",
    "    print('Information sur le test non valide:')\n",
    "    print(e)\n",
    "    \n",
    "else:\n",
    "    print(\"\\033[92m {}\\033[00m\" .format('Ok - Tous les tests sont validés.')) "
   ]
  },
  {
   "cell_type": "markdown",
   "metadata": {},
   "source": [
    "Lancez le code suivant, vous devriez avoir une matrice triangulaire supérieur. La visualisation de la matrice sous forme d'image peut être plus clair qu'un affichage direct de ses valeurs."
   ]
  },
  {
   "cell_type": "code",
   "execution_count": 25,
   "metadata": {},
   "outputs": [
    {
     "name": "stdout",
     "output_type": "stream",
     "text": [
      "Affichage direct des valeurs\n",
      " [[0 1 1 1 1 1 1 1 1 1]\n",
      " [0 0 1 1 1 1 1 1 1 1]\n",
      " [0 0 0 1 1 1 1 1 1 1]\n",
      " [0 0 0 0 1 1 1 1 1 1]\n",
      " [0 0 0 0 0 1 1 1 1 1]\n",
      " [0 0 0 0 0 0 1 1 1 1]\n",
      " [0 0 0 0 0 0 0 1 1 1]\n",
      " [0 0 0 0 0 0 0 0 1 1]\n",
      " [0 0 0 0 0 0 0 0 0 1]\n",
      " [0 0 0 0 0 0 0 0 0 0]]\n"
     ]
    },
    {
     "data": {
      "image/png": "[encoded data removed]",
      "text/plain": [
       "<Figure size 432x288 with 1 Axes>"
      ]
     },
     "metadata": {
      "needs_background": "light"
     },
     "output_type": "display_data"
    }
   ],
   "source": [
    "masque = 1*(t[:,:,0]>t[:,:,1])\n",
    "print('Affichage direct des valeurs\\n',masque)\n",
    "plt.imshow(masque,cmap='gray')\n",
    "plt.title('Matrice masque')\n",
    "# Affichage de la grille\n",
    "ax = plt.gca()\n",
    "ax.set_xticks(np.arange(0, 10))\n",
    "ax.set_yticks(np.arange(0, 10))\n",
    "ax.set_xticks(np.arange(-.5, 10, 1), minor=True);\n",
    "ax.set_yticks(np.arange(-.5, 10, 1), minor=True);\n",
    "ax.set_xticklabels(np.arange(10))\n",
    "ax.set_yticklabels(np.arange(10))\n",
    "plt.grid(which='minor')\n",
    "plt.show()"
   ]
  },
  {
   "cell_type": "markdown",
   "metadata": {},
   "source": [
    "Nous voulons créez une matrice permettant de connaitre les distances entre les 10 points étudiés. Une case $i,j$ représente la distance entre le point $i$ et le point $j$. Commencez par créer une matrice `dist` de (10,10) que vous initialiserez à 0."
   ]
  },
  {
   "cell_type": "code",
   "execution_count": 26,
   "metadata": {},
   "outputs": [
    {
     "name": "stdout",
     "output_type": "stream",
     "text": [
      "[[0. 0. 0. 0. 0. 0. 0. 0. 0. 0.]\n",
      " [0. 0. 0. 0. 0. 0. 0. 0. 0. 0.]\n",
      " [0. 0. 0. 0. 0. 0. 0. 0. 0. 0.]\n",
      " [0. 0. 0. 0. 0. 0. 0. 0. 0. 0.]\n",
      " [0. 0. 0. 0. 0. 0. 0. 0. 0. 0.]\n",
      " [0. 0. 0. 0. 0. 0. 0. 0. 0. 0.]\n",
      " [0. 0. 0. 0. 0. 0. 0. 0. 0. 0.]\n",
      " [0. 0. 0. 0. 0. 0. 0. 0. 0. 0.]\n",
      " [0. 0. 0. 0. 0. 0. 0. 0. 0. 0.]\n",
      " [0. 0. 0. 0. 0. 0. 0. 0. 0. 0.]]\n"
     ]
    },
    {
     "data": {
      "image/png": "[encoded data removed]",
      "text/plain": [
       "<Figure size 432x288 with 1 Axes>"
      ]
     },
     "metadata": {
      "needs_background": "light"
     },
     "output_type": "display_data"
    }
   ],
   "source": []
  },
  {
   "cell_type": "markdown",
   "metadata": {},
   "source": [
    "La matrice `masque` calculée précédemment indique entre quels points sont calculés les distances du vecteur `md` (calculé par la fonction `sc.spatial.distance.pdist`). Les 1 de la matrice `masque` sont les endroits où devront être recopié les valeurs du vecteur `md`.\n",
    "\n",
    "Vérifiez qu'il y a autant d'éléments dans le vecteur `md` que de $1$ dans la matrice `masque`."
   ]
  },
  {
   "cell_type": "code",
   "execution_count": 27,
   "metadata": {},
   "outputs": [
    {
     "name": "stdout",
     "output_type": "stream",
     "text": [
      "Longueur du vecteur md: 45\n",
      "Nombre de 1 dans masque: 45\n"
     ]
    }
   ],
   "source": []
  },
  {
   "cell_type": "markdown",
   "metadata": {},
   "source": [
    "Recopiez les valeurs de `md` dans `dist` aux positions où le `masque==1`. Lors de la recopie, l'ordre de parcours correspond à l'ordre normal sur les tableaux numpy. "
   ]
  },
  {
   "cell_type": "code",
   "execution_count": 28,
   "metadata": {},
   "outputs": [
    {
     "data": {
      "image/png": "[encoded data removed]",
      "text/plain": [
       "<Figure size 432x288 with 1 Axes>"
      ]
     },
     "metadata": {
      "needs_background": "light"
     },
     "output_type": "display_data"
    }
   ],
   "source": []
  },
  {
   "cell_type": "markdown",
   "metadata": {},
   "source": [
    "Il faut maintenant compléter la matrice `dist` avec son symétrique pour avoir la matrice de toutes les distances. La diagonale peut être laissé à 0 (la distance d'un point avec lui même est bien nulle)."
   ]
  },
  {
   "cell_type": "code",
   "execution_count": 29,
   "metadata": {},
   "outputs": [
    {
     "data": {
      "image/png": "[encoded data removed]",
      "text/plain": [
       "<Figure size 432x288 with 1 Axes>"
      ]
     },
     "metadata": {
      "needs_background": "light"
     },
     "output_type": "display_data"
    }
   ],
   "source": []
  },
  {
   "cell_type": "markdown",
   "metadata": {},
   "source": [
    "Vous pouvez vérifiez la distance entre le premier et le cinquième point."
   ]
  },
  {
   "cell_type": "code",
   "execution_count": 30,
   "metadata": {},
   "outputs": [
    {
     "name": "stdout",
     "output_type": "stream",
     "text": [
      "Distance entre le point 0 et le point 4: 1.969615506024416 \n",
      "Distance entre le point 4 et le point 0: 1.969615506024416\n"
     ]
    }
   ],
   "source": []
  },
  {
   "cell_type": "markdown",
   "metadata": {},
   "source": [
    "L'opération que nous venons de faire peut être faite directement avec la fonction `sc.spatial.distance.squareform` de scipy (https://docs.scipy.org/doc/scipy/reference/generated/scipy.spatial.distance.squareform.html#scipy.spatial.distance.squareform). Utilisez cette fonction sur `md` et comparez le résultat avec la matrice `dist` et la matrice `dist_numpy`."
   ]
  },
  {
   "cell_type": "code",
   "execution_count": 31,
   "metadata": {},
   "outputs": [
    {
     "name": "stdout",
     "output_type": "stream",
     "text": [
      "Égalité des trois solutions ? : True\n"
     ]
    }
   ],
   "source": []
  },
  {
   "cell_type": "markdown",
   "metadata": {},
   "source": [
    "3 - Application du calcul des distances sur les villes de Normandie\n",
    "---\n",
    "\n",
    "### 3.1 Analyse du fichier fourni"
   ]
  },
  {
   "cell_type": "markdown",
   "metadata": {},
   "source": [
    "Nous allons travailler sur une version modifiée d'un fichier recensant l'ensemble des villes de France dont la version originale se trouve à l'adresse suivante: https://www.data.gouv.fr/fr/datasets/listes-des-communes-geolocalisees-par-regions-departements-circonscriptions-nd/.\n",
    "Vous avez à votre disposition deux fichiers appelé *villes\\_france.csv* et *villes\\_normandie.csv* contenant des informations sur respectivement l'ensemble des villes de France et de Normandie. Vous pouvez commencer à regarder leurs contenus au moyen d'un éditeur de texte (par exemple gedit), ou l'importer sous Open Office ou Libre Office. \n",
    "\n",
    "La commande shell (linux) suivante permet aussi de visualiser les premières lignes du fichier et donne un aperçu de sa structure.\n",
    "- Les colonnes sont séparées par des \";\". \n",
    "- La première ligne décrit les intitulés des différentes colonnes.\n",
    "- Chaque ligne suivante recense une ville donnée.\n",
    "\n",
    "Rq: le point d'exclamation permet d'exécuter des commandes shell dans un notebook jupyter."
   ]
  },
  {
   "cell_type": "code",
   "execution_count": 32,
   "metadata": {},
   "outputs": [
    {
     "name": "stdout",
     "output_type": "stream",
     "text": [
      "EU_circo;code_région;nom_région;chef-lieu_région;numéro_département;nom_département;préfecture;numéro_circonscription;nom_commune;codes_postaux;code_insee;latitude;longitude;éloignement\n",
      "Nord-Ouest;25;Basse-Normandie;Caen;14;Calvados;Caen;1;Audrieu;14250;14026;49.2;-0.6;0.75\n",
      "Nord-Ouest;25;Basse-Normandie;Caen;14;Calvados;Caen;1;Authie;14280;14030;49.2;-0.433333;1.07\n",
      "Nord-Ouest;25;Basse-Normandie;Caen;14;Calvados;Caen;1;Bretteville-sur-Odon;14760;14101;49.166667;-0.416667;0.37\n",
      "Nord-Ouest;25;Basse-Normandie;Caen;14;Calvados;Caen;1;Brouay;14250;14109;49.216667;-0.566667;1.52\n",
      "Nord-Ouest;25;Basse-Normandie;Caen;14;Calvados;Caen;1;Caen;14000;14118;49.183333;-0.35;0.5\n"
     ]
    }
   ],
   "source": [
    "!head -n 6 villes_normandie.csv"
   ]
  },
  {
   "cell_type": "markdown",
   "metadata": {},
   "source": [
    "Vous travaillerez dans un premier sur le fichier *villes\\_normandie.csv*. Une fois votre code fonctionnel, vous pouvez tester sur l'ensemble des villes de France *villes\\_france.csv*."
   ]
  },
  {
   "cell_type": "markdown",
   "metadata": {},
   "source": [
    "Le code suivant importe le contenu du fichier *villes\\_normandie.csv* dans la variable `nom_ville`. Seule la colonne 8 est importé, chaque colonne étant défini grâce au séparateur `;`."
   ]
  },
  {
   "cell_type": "code",
   "execution_count": 33,
   "metadata": {},
   "outputs": [
    {
     "name": "stdout",
     "output_type": "stream",
     "text": [
      "[b'Audrieu' b'Authie' b'Bretteville-sur-Odon' ...\n",
      " b'Vieux-Rouen-sur-Bresle' b'Villers-sous-Foucarmont' b'Wanchy-Capval']\n"
     ]
    }
   ],
   "source": [
    "nom_ville = np.loadtxt('villes_normandie.csv', delimiter=';',dtype=np.unicode,usecols=8,skiprows=1)\n",
    "print(nom_ville)"
   ]
  },
  {
   "cell_type": "markdown",
   "metadata": {},
   "source": [
    "Le code suivant permet de détecter les villes portant le même nom. Nous les supprimerons dans la suite du TP. La variable `premier_doublon` indique l'indice de chaque première occurrence de nom des villes."
   ]
  },
  {
   "cell_type": "code",
   "execution_count": 1,
   "metadata": {},
   "outputs": [],
   "source": [
    "# Détection des doublons\n",
    "nom_ville, premier_doublon = np.unique(nom_ville, return_index=True)\n",
    "print(nom_ville)"
   ]
  },
  {
   "cell_type": "markdown",
   "metadata": {},
   "source": [
    "En utilisant le tableau `nom_ville` et une boucle `for`, créez un dictionnaire python nommé `ville` donnant pour un nom de ville son numéro correspondant à son ordre d'apparition dans le tableau `nom_ville`. Par exemple *Ablon* aura le numéro 0, *Caen* le numéro 428..."
   ]
  },
  {
   "cell_type": "code",
   "execution_count": 36,
   "metadata": {},
   "outputs": [],
   "source": []
  },
  {
   "cell_type": "code",
   "execution_count": 37,
   "metadata": {},
   "outputs": [
    {
     "name": "stdout",
     "output_type": "stream",
     "text": [
      "\u001b[92m Ok - Tous les tests sont validés.\u001b[00m\n"
     ]
    }
   ],
   "source": [
    "# Ce bloc permet de valider votre code. Vous ne devez pas le modifier.  \n",
    "try:\n",
    "    np.testing.assert_equal(type(ville),type({}),err_msg=\"\\033[93m {}\\033[00m\" .format('Test 1 : ville n\\'est pas un dictionnaire'))\n",
    "    np.testing.assert_equal(nom_ville[ville['Audrieu']],'Audrieu',err_msg=\"\\033[93m {}\\033[00m\" .format('Test 2 : La ville de Audrieu n\\'a pas le bon indexe.'))\n",
    "    np.testing.assert_equal(nom_ville[ville['Caen']],'Caen',err_msg=\"\\033[93m {}\\033[00m\" .format('Test 3 : La ville de Caen n\\'a pas le bon indexe.'))                                      \n",
    "    np.testing.assert_equal(len(ville),2946,err_msg=\"\\033[93m {}\\033[00m\" .format('Test 4 : Le nombre d\\'éléments dans le dictonnaire ville n\\'est pas correct.'))                                      \n",
    "    \n",
    "except Exception as e: \n",
    "    print(\"\\033[91m {}\\033[00m\" .format('KO - Au moins un test n\\'est pas validé')) \n",
    "    print('Information sur le test non valide:')\n",
    "    print(e)\n",
    "    \n",
    "else:\n",
    "    print(\"\\033[92m {}\\033[00m\" .format('Ok - Tous les tests sont validés.')) "
   ]
  },
  {
   "cell_type": "markdown",
   "metadata": {},
   "source": [
    "Créez une matrice numpy `coord` dans laquelle chaque ligne représente une ville, la première colonne contient la latitude et la seconde colonne la longitude de la ville. Pour cela remplacez dans le code suivant les \"?\" avec les bonnes valeurs. Vous aurez besoin d'ouvrir le fichier *villes_normandie.csv* avec un éditeur de texte pour connaitre les indices des colonnes à récupérer."
   ]
  },
  {
   "cell_type": "code",
   "execution_count": 38,
   "metadata": {},
   "outputs": [],
   "source": [
    "coord = np.loadtxt('villes_normandie.csv', delimiter=';',usecols=(?,?),skiprows=1) \n",
    "coord = coord[premier_doublon]"
   ]
  },
  {
   "cell_type": "code",
   "execution_count": 39,
   "metadata": {},
   "outputs": [
    {
     "name": "stdout",
     "output_type": "stream",
     "text": [
      "\u001b[92m Ok - Tous les tests sont validés.\u001b[00m\n"
     ]
    }
   ],
   "source": [
    "# Ce bloc permet de valider votre code. Vous ne devez pas le modifier.  \n",
    "try:\n",
    "    np.testing.assert_equal(coord[428],[49.183333,-0.35 ],err_msg=\"\\033[93m {}\\033[00m\" .format('Test 1 : les coordonnées de Caen ne sont pas correct.'))\n",
    "    np.testing.assert_equal(coord[ville['Caen']],[49.183333,-0.35 ],err_msg=\"\\033[93m {}\\033[00m\" .format('Test 2 : la variable ville n\\'est pas correcte.'))\n",
    "    \n",
    "except Exception as e: \n",
    "    print(\"\\033[91m {}\\033[00m\" .format('KO - Au moins un test n\\'est pas validé')) \n",
    "    print('Information sur le test non valide:')\n",
    "    print(e)\n",
    "    \n",
    "else:\n",
    "    print(\"\\033[92m {}\\033[00m\" .format('Ok - Tous les tests sont validés.')) "
   ]
  },
  {
   "cell_type": "markdown",
   "metadata": {},
   "source": [
    "Sauver le dictionnaire et les matrices dans un fichier de type \"pickle\", cela sera plus facile à charger ultérieurement. "
   ]
  },
  {
   "cell_type": "code",
   "execution_count": 40,
   "metadata": {},
   "outputs": [],
   "source": [
    "import pickle\n",
    "\n",
    "# pour écrire les données sur disque avec pickle\n",
    "with open('data.pickle', 'wb') as f:  \n",
    "    pickle.dump([ville,nom_ville,coord], f)\n",
    "    \n",
    "# pour lire les données sur disque avec pickle\n",
    "with open('data.pickle', 'rb') as f:  \n",
    "    [ville,nom_ville,coord] = pickle.load(f)"
   ]
  },
  {
   "cell_type": "markdown",
   "metadata": {},
   "source": [
    "### 3.2 - Distances géodésiques entre villes"
   ]
  },
  {
   "cell_type": "markdown",
   "metadata": {},
   "source": [
    "Dans un premier temps, vous écrirez une fonction `distGeo` qui permet de calculer la distance géodésique entre deux villes, à partir des coordonnées des villes. Vous utiliserez pour cela l'équation suivante :\n",
    "\n",
    "$$\n",
    "\td_g = R \\cos^{-1}\\left(\\sin(p1_{lat})\\sin(p2_{lat})+\\cos(p1_{lat})\\cos(p2_{lat})\\cos(p1_{lon}-p2_{lon})\\right)\n",
    "$$\n",
    "où $R=6367.445$ est le rayon de la terre (en km), $p1$ et $p2$ les deux points dont on souhaite calculer la distance. Les indices $_{lat}$ $_{lon}$ représentent la latitude et la longitude en radian. Attention, dans le ficher de données, les valeurs sont données en degrés.\n"
   ]
  },
  {
   "cell_type": "code",
   "execution_count": 1,
   "metadata": {},
   "outputs": [],
   "source": [
    "R = 6367.445\n",
    "\n",
    "def distGeo(u,v):\n",
    "    u1 = ?\n",
    "    v1 = ?\n",
    "    return ?\n"
   ]
  },
  {
   "cell_type": "code",
   "execution_count": 42,
   "metadata": {},
   "outputs": [
    {
     "name": "stdout",
     "output_type": "stream",
     "text": [
      "\u001b[92m Ok - Tous les tests sont validés.\u001b[00m\n"
     ]
    }
   ],
   "source": [
    "# Ce bloc permet de valider votre code. Vous ne devez pas le modifier.  \n",
    "try:\n",
    "    np.testing.assert_almost_equal(distGeo(np.array([43,-88]),np.array([43,-88])),0,decimal=4,err_msg=\"\\033[93m {}\\033[00m\" .format('Test 1 : il est possible que la formule de dg ne soit pas correctement écrite.'))\n",
    "    np.testing.assert_almost_equal(distGeo(np.array([10,-30])+360,np.array([-50,-78])),distGeo(np.array([10,-30]),np.array([-50,-78])),err_msg=\"\\033[93m {}\\033[00m\" .format('Test 2 : il manque la conversion de u en radian.'))\n",
    "    np.testing.assert_almost_equal(distGeo(np.array([10,-30]),360+np.array([-50,-78])),distGeo(np.array([10,-30]),np.array([-50,-78])),err_msg=\"\\033[93m {}\\033[00m\" .format('Test 3 : il manque la conversion de v en radian.'))\n",
    "    np.testing.assert_almost_equal(distGeo(coord[ville[\"Caen\"]],coord[ville[\"Audrieu\"]]),18.25141017851904,err_msg=\"\\033[93m {}\\033[00m\" .format('Test 4 : la distance géodésique entre Audrieu et Caen n\\'est pas correcte. ville n\\'est pas correcte.'))\n",
    "    \n",
    "except Exception as e: \n",
    "    print(\"\\033[91m {}\\033[00m\" .format('KO - Au moins un test n\\'est pas validé')) \n",
    "    print('Information sur le test non valide:')\n",
    "    print(e)\n",
    "    \n",
    "else:\n",
    "    print(\"\\033[92m {}\\033[00m\" .format('Ok - Tous les tests sont validés.')) \n"
   ]
  },
  {
   "cell_type": "markdown",
   "metadata": {},
   "source": [
    "Vérifiez que votre fonction donne un résultat correct en calculant la distance entre Caen et Rouen et comparez le  résultat à celui donné par le site https://www.ephemeride.com/atlas/distance/27/ qui permet de calculer les distances à vol d'oiseau entre deux villes."
   ]
  },
  {
   "cell_type": "code",
   "execution_count": 43,
   "metadata": {},
   "outputs": [
    {
     "name": "stdout",
     "output_type": "stream",
     "text": [
      "Distance ente Caen et Rouen: 107.5056062486595\n"
     ]
    }
   ],
   "source": []
  },
  {
   "cell_type": "markdown",
   "metadata": {},
   "source": [
    "Nous désirons désormais calculer une matrice `dist` contenant l'ensemble des distances entre villes. La valeur $(i,j)$ de cette matrice représentera la distance entre la ville $i$ et la ville $j$.\n",
    " \n",
    "Construire cette matrice avec des boucles prendrait beaucoup trop de temps. Utilisez les fonctions `pdist` et `squareform` vu en début de TP. Nous attirons votre attention sur l'argument `metric` de la fonction `pdist` permettant de choisir le type de distance utilisée. Cet argument peut être soit une chaîne de caractère parmi celles proposées dans la documentation, soit une fonction que vous avez préalablement créée  (comme ici la fonction `distGeo`).\n",
    "\n",
    "**Calculez cette matrice de distance pour les 500 premières villes (matrice 500x500).** \n",
    "Affichez également le temps d'exécution de ce bloc d'instruction."
   ]
  },
  {
   "cell_type": "code",
   "execution_count": 44,
   "metadata": {},
   "outputs": [
    {
     "name": "stdout",
     "output_type": "stream",
     "text": [
      "CPU times: user 1.26 s, sys: 4.81 ms, total: 1.27 s\n",
      "Wall time: 1.31 s\n"
     ]
    }
   ],
   "source": [
    "%%time\n",
    "md = ?\n",
    "dist = ?"
   ]
  },
  {
   "cell_type": "code",
   "execution_count": 45,
   "metadata": {},
   "outputs": [
    {
     "name": "stdout",
     "output_type": "stream",
     "text": [
      "\u001b[92m Ok - Tous les tests sont validés.\u001b[00m\n"
     ]
    }
   ],
   "source": [
    "# Ce bloc permet de valider votre code. Vous ne devez pas le modifier.  \n",
    "try:\n",
    "    np.testing.assert_almost_equal(dist[ville['Caen'],ville['Audrieu']],18.25141017851904,err_msg=\"\\033[93m {}\\033[00m\" .format('Test 1 : la distance entre Caen et Audrieu n\\'est pas correcte.'))\n",
    "\n",
    "except Exception as e: \n",
    "    print(\"\\033[91m {}\\033[00m\" .format('KO - Au moins un test n\\'est pas validé')) \n",
    "    print('Information sur le test non valide:')\n",
    "    print(e)\n",
    "    \n",
    "else:\n",
    "    print(\"\\033[92m {}\\033[00m\" .format('Ok - Tous les tests sont validés.')) "
   ]
  },
  {
   "cell_type": "markdown",
   "metadata": {},
   "source": [
    "Le calcul de l'ensemble des distances entre les villes est une opération de complexité quadratique. Cela veux dire que si le nombre de ville augmente d'un facteur $n$ alors le temps de calcul augmentera à peu près d'un facteur $n^2$. À votre avis que va-t-il se passer si on veut calculer cette matrice pour l'ensemble des villes de Normandie ? Pour l'ensemble des villes de France ? "
   ]
  },
  {
   "cell_type": "code",
   "execution_count": 46,
   "metadata": {},
   "outputs": [
    {
     "name": "stdout",
     "output_type": "stream",
     "text": [
      "CPU times: user 42 s, sys: 33.5 ms, total: 42 s\n",
      "Wall time: 42.1 s\n"
     ]
    }
   ],
   "source": [
    "%%time\n",
    "# à compléter"
   ]
  },
  {
   "cell_type": "raw",
   "metadata": {},
   "source": [
    "Votre réponse"
   ]
  },
  {
   "cell_type": "markdown",
   "metadata": {},
   "source": [
    "### 3.3- Distances euclidiennes entre villes"
   ]
  },
  {
   "cell_type": "markdown",
   "metadata": {},
   "source": [
    "Nous allons à présent mettre en place une méthode plus rapide pour calculer la distance entre les différentes villes. Nous allons commencer par représenter les villes par leurs coordonnées 3D, et c'est à partir de ces coordonnées 3D que l'on calculera les distances euclidiennes entre villes. La distance euclidienne est moins précise que la distance géodésique car elle ne prend pas en compte la courbure de la terre mais son calcul est plus rapide. \n",
    "\n",
    "Pour calculer les coordonnées 3D, vous pourrez utiliser les équations suivantes :\n",
    "\n",
    "\\begin{eqnarray*}\n",
    "\tx & = & R \\ \\cos(p_{lat}) \\sin(p_{lon})\\\\\n",
    "\ty & = & R \\ \\cos(p_{lat}) \\cos(p_{lon})\\\\\n",
    "\tz & = & R \\ \\sin(p_{lat})\\\\\n",
    "\\end{eqnarray*}\n",
    "\n",
    "Attention, les angles doivent être en radian et non en degré et $R=6367.445$ est le rayon de la terre. "
   ]
  },
  {
   "cell_type": "markdown",
   "metadata": {},
   "source": [
    "Écrivez une fonction `convert3D` qui convertit un tableau de coordonnées décrites en terme de latitude et de longitude en un tableau de coordonnées 3D. "
   ]
  },
  {
   "cell_type": "code",
   "execution_count": 47,
   "metadata": {},
   "outputs": [],
   "source": [
    "def convert3D(u):\n",
    "    xyz = np.zeros((u.shape[0],3))\n",
    "    xyz[:,0] = ?\n",
    "    xyz[:,1] = ?\n",
    "    xyz[:,2] = ?\n",
    "    return xyz\n"
   ]
  },
  {
   "cell_type": "code",
   "execution_count": 48,
   "metadata": {},
   "outputs": [
    {
     "name": "stdout",
     "output_type": "stream",
     "text": [
      "\u001b[92m Ok - Tous les tests sont validés.\u001b[00m\n"
     ]
    }
   ],
   "source": [
    "# Ce bloc permet de valider votre code. Vous ne devez pas le modifier.  \n",
    "try:\n",
    "    np.testing.assert_almost_equal(convert3D(np.array([[30,-47],[78,44]])).shape,\n",
    "                                   (2,3),\n",
    "                                   err_msg=\"\\033[93m {}\\033[00m\" .format('Test 1 : Problème sur les dimensions de sortie. Il doit avoir autant de ligne que d\\'exemple et 3 colonnes.)')\n",
    "                                  )\n",
    "    np.testing.assert_almost_equal(convert3D(np.array([[30,-47],[78,44]]))[:,0],\n",
    "                                   [-4032.95427327 , 919.6347762 ],\n",
    "                                   err_msg=\"\\033[93m {}\\033[00m\" .format('Test 2 : La valeur de x est fausse.')\n",
    "                                  )    \n",
    "    np.testing.assert_almost_equal(convert3D(np.array([[30,-47],[78,44]]))[:,1],\n",
    "                                   [3760.79070153,  952.30968837],\n",
    "                                   err_msg=\"\\033[93m {}\\033[00m\" .format('Test 3 : La valeur de y est fausse.')\n",
    "                                  )  \n",
    "    np.testing.assert_almost_equal(convert3D(np.array([[30,-47],[78,44]]))[:,2],\n",
    "                                   [3183.7225 ,    6228.30104955],\n",
    "                                   err_msg=\"\\033[93m {}\\033[00m\" .format('Test 4 : La valeur de z est fausse.')\n",
    "                                  )  \n",
    "except Exception as e: \n",
    "    print(\"\\033[91m {}\\033[00m\" .format('KO - Au moins un test n\\'est pas validé')) \n",
    "    print('Information sur le test non valide:')\n",
    "    print(e)\n",
    "    \n",
    "else:\n",
    "    print(\"\\033[92m {}\\033[00m\" .format('Ok - Tous les tests sont validés.')) \n"
   ]
  },
  {
   "cell_type": "markdown",
   "metadata": {},
   "source": [
    "En utilisant la fonction `plt.scatter` de *matplotlib*, affichez chaque ville de Normandie sous la forme de point de coordonnées $(x,-y)$. On ignorera la 3ème coordonnée $z$ qui correspond à la distance avec le centre de la terre.   \n",
    "\n",
    "Vous pouvez afficher d'une couleur différente les villes de *Caen* et *Rouen*."
   ]
  },
  {
   "cell_type": "code",
   "execution_count": 49,
   "metadata": {},
   "outputs": [
    {
     "data": {
      "image/png": "[encoded data removed]",
      "text/plain": [
       "<Figure size 432x288 with 1 Axes>"
      ]
     },
     "metadata": {
      "needs_background": "light"
     },
     "output_type": "display_data"
    }
   ],
   "source": []
  },
  {
   "cell_type": "markdown",
   "metadata": {},
   "source": [
    "Créez une fonction `distEuc` qui calcul la distance euclidienne entre deux villes dont les coordonnées sont en latitude, longitude. Vous utiliserez une fonction de concaténation et la fonction `convert3D` pour faire cette fonction. "
   ]
  },
  {
   "cell_type": "code",
   "execution_count": 50,
   "metadata": {},
   "outputs": [],
   "source": [
    "def distEuc(u,v):\n",
    "    # à compléter"
   ]
  },
  {
   "cell_type": "markdown",
   "metadata": {},
   "source": [
    "Calculez la distance entre *Caen* et *Rouen* en utilisant `distEuc`. Trouvez-vous le même résultat qu'avec une distance géodésique ?"
   ]
  },
  {
   "cell_type": "code",
   "execution_count": 51,
   "metadata": {},
   "outputs": [
    {
     "name": "stdout",
     "output_type": "stream",
     "text": [
      "Distance ente Caen et Rouen: 107.50432936846148\n"
     ]
    }
   ],
   "source": []
  }
 ],
 "metadata": {
  "kernelspec": {
   "display_name": "Python 3",
   "language": "python",
   "name": "python3"
  },
  "language_info": {
   "codemirror_mode": {
    "name": "ipython",
    "version": 3
   },
   "file_extension": ".py",
   "mimetype": "text/x-python",
   "name": "python",
   "nbconvert_exporter": "python",
   "pygments_lexer": "ipython3",
   "version": "3.9.1"
  }
 },
 "nbformat": 4,
 "nbformat_minor": 4
}
